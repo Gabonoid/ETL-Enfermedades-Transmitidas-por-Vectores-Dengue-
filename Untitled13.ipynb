{
  "nbformat": 4,
  "nbformat_minor": 0,
  "metadata": {
    "colab": {
      "provenance": [],
      "authorship_tag": "ABX9TyN9bDX0g2/iuTloqIq6Bgos",
      "include_colab_link": true
    },
    "kernelspec": {
      "name": "python3",
      "display_name": "Python 3"
    },
    "language_info": {
      "name": "python"
    }
  },
  "cells": [
    {
      "cell_type": "markdown",
      "metadata": {
        "id": "view-in-github",
        "colab_type": "text"
      },
      "source": [
        "<a href=\"https://colab.research.google.com/github/Gabonoid/ETL-Enfermedades-Transmitidas-por-Vectores-Dengue-/blob/main/Untitled13.ipynb\" target=\"_parent\"><img src=\"https://colab.research.google.com/assets/colab-badge.svg\" alt=\"Open In Colab\"/></a>"
      ]
    },
    {
      "cell_type": "markdown",
      "source": [
        "Webscrapping\n",
        "https://www.gob.mx/salud/documentos/datos-abiertos-bases-historicas-de-enfermedades-transmitidas-por-vector\n",
        "\n"
      ],
      "metadata": {
        "id": "yCkC9avPUh3L"
      }
    },
    {
      "cell_type": "markdown",
      "source": [
        "### Creacion de carpetas del proyecto"
      ],
      "metadata": {
        "id": "tiC3dis8WxG2"
      }
    },
    {
      "cell_type": "code",
      "execution_count": null,
      "metadata": {
        "id": "qX0nJxDnUgim"
      },
      "outputs": [],
      "source": [
        "import os\n",
        "\n",
        "# Lista de carpetas que quieres crear\n",
        "folders = ['pdf', 'csv', 'zip', 'data', 'models']\n",
        "\n",
        "# Crear cada carpeta si no existe\n",
        "for folder in folders:\n",
        "    os.makedirs(folder, exist_ok=True)"
      ]
    },
    {
      "cell_type": "markdown",
      "source": [
        "Descargamos los pdf"
      ],
      "metadata": {
        "id": "21ihEZ1XXgrf"
      }
    },
    {
      "cell_type": "code",
      "source": [
        "import requests\n",
        "\n",
        "# Lista de URLs de los PDFs\n",
        "datos_abiertos_historicos = [\n",
        "    'https://www.gob.mx/cms/uploads/attachment/file/674027/Datos_abiertos_historicos_etv_2020.pdf',\n",
        "    'https://www.gob.mx/cms/uploads/attachment/file/691591/Datos_abiertos_historicos_etv_2021.pdf',\n",
        "    'https://www.gob.mx/cms/uploads/attachment/file/788955/Datos_abiertos_historicos_etv_2022.pdf',\n",
        "    'https://www.gob.mx/cms/uploads/attachment/file/891410/Datos_abiertos_historicos_etv_2023.pdf',\n",
        "    'https://www.gob.mx/cms/uploads/attachment/file/965318/Datos_abiertos_historicos_etv_2024.pdf',\n",
        "    'https://www.gob.mx/cms/uploads/attachment/file/995201/Datos_abiertos_historicos_etv_2025.pdf',\n",
        "]\n",
        "\n",
        "# Carpeta donde se guardarán los PDF\n",
        "output_dir = 'pdf'\n",
        "os.makedirs(output_dir, exist_ok=True)\n",
        "\n",
        "# Descargar y guardar cada PDF\n",
        "for url in datos_abiertos_historicos:\n",
        "    filename = url.split('/')[-1]  # Extrae el nombre del archivo\n",
        "    output_path = os.path.join(output_dir, filename)\n",
        "\n",
        "    response = requests.get(url)\n",
        "    if response.status_code == 200:\n",
        "        with open(output_path, 'wb') as f:\n",
        "            f.write(response.content)\n",
        "        print(f\"Descargado: {filename}\")\n",
        "    else:\n",
        "        print(f\"Error al descargar {filename}: {response.status_code}\")\n"
      ],
      "metadata": {
        "colab": {
          "base_uri": "https://localhost:8080/"
        },
        "id": "gIEt3H4IXi0r",
        "outputId": "fcda5d76-415d-4710-ec8c-550cb23a7e93"
      },
      "execution_count": null,
      "outputs": [
        {
          "output_type": "stream",
          "name": "stdout",
          "text": [
            "Descargado: Datos_abiertos_historicos_etv_2020.pdf\n",
            "Descargado: Datos_abiertos_historicos_etv_2021.pdf\n",
            "Descargado: Datos_abiertos_historicos_etv_2022.pdf\n",
            "Descargado: Datos_abiertos_historicos_etv_2023.pdf\n",
            "Descargado: Datos_abiertos_historicos_etv_2024.pdf\n",
            "Descargado: Datos_abiertos_historicos_etv_2025.pdf\n"
          ]
        }
      ]
    },
    {
      "cell_type": "markdown",
      "source": [
        "Extraccion de url de los pdf"
      ],
      "metadata": {
        "id": "l1P_-2fcY2Gj"
      }
    },
    {
      "cell_type": "code",
      "source": [
        "!pip install pymupdf"
      ],
      "metadata": {
        "colab": {
          "base_uri": "https://localhost:8080/"
        },
        "id": "Z8DbTWEMY5Rx",
        "outputId": "166ff489-52a7-4e94-ef1f-b4c2869c4ee7"
      },
      "execution_count": null,
      "outputs": [
        {
          "output_type": "stream",
          "name": "stdout",
          "text": [
            "Collecting pymupdf\n",
            "  Downloading pymupdf-1.26.0-cp39-abi3-manylinux2014_x86_64.manylinux_2_17_x86_64.whl.metadata (3.4 kB)\n",
            "Downloading pymupdf-1.26.0-cp39-abi3-manylinux2014_x86_64.manylinux_2_17_x86_64.whl (24.1 MB)\n",
            "\u001b[2K   \u001b[90m━━━━━━━━━━━━━━━━━━━━━━━━━━━━━━━━━━━━━━━━\u001b[0m \u001b[32m24.1/24.1 MB\u001b[0m \u001b[31m29.7 MB/s\u001b[0m eta \u001b[36m0:00:00\u001b[0m\n",
            "\u001b[?25hInstalling collected packages: pymupdf\n",
            "Successfully installed pymupdf-1.26.0\n"
          ]
        }
      ]
    },
    {
      "cell_type": "code",
      "source": [
        "import fitz  # PyMuPDF\n",
        "\n",
        "pdf_folder = 'pdf'\n",
        "all_links = []\n",
        "\n",
        "for pdf_file in os.listdir(pdf_folder):\n",
        "    if pdf_file.endswith('.pdf'):\n",
        "        pdf_path = os.path.join(pdf_folder, pdf_file)\n",
        "        doc = fitz.open(pdf_path)\n",
        "\n",
        "        for page_num, page in enumerate(doc):\n",
        "            links = page.get_links()\n",
        "            for link in links:\n",
        "                uri = link.get(\"uri\", None)\n",
        "                if uri:\n",
        "                    all_links.append(uri)\n",
        "\n",
        "        doc.close()\n",
        "\n",
        "print(\"Links encontrados:\")\n",
        "for link in all_links:\n",
        "    print(link)\n",
        "\n",
        "with open(\"links.txt\", \"w\") as f:\n",
        "    for link in all_links:\n",
        "        f.write(link + \"\\n\")"
      ],
      "metadata": {
        "colab": {
          "base_uri": "https://localhost:8080/"
        },
        "id": "EW1qWMPWZHHj",
        "outputId": "79003c38-b630-4b25-e3bf-ecdacd65b0ee"
      },
      "execution_count": null,
      "outputs": [
        {
          "output_type": "stream",
          "name": "stdout",
          "text": [
            "Links encontrados:\n",
            "https://datosabiertos.salud.gob.mx/gobmx/salud/datos_abiertos/etv/historicos/2021/datos_abiertos_dengue_301221.zip\n",
            "https://datosabiertos.salud.gob.mx/gobmx/salud/datos_abiertos/etv/historicos/2021/datos_abiertos_dengue_231221.zip\n",
            "https://datosabiertos.salud.gob.mx/gobmx/salud/datos_abiertos/etv/historicos/2021/datos_abiertos_dengue_161221.zip\n",
            "https://datosabiertos.salud.gob.mx/gobmx/salud/datos_abiertos/etv/historicos/2021/datos_abiertos_dengue_091221.zip\n",
            "https://datosabiertos.salud.gob.mx/gobmx/salud/datos_abiertos/etv/historicos/2021/datos_abiertos_dengue_021221.zip\n",
            "https://datosabiertos.salud.gob.mx/gobmx/salud/datos_abiertos/etv/historicos/2021/datos_abiertos_dengue_251121.zip\n",
            "https://datosabiertos.salud.gob.mx/gobmx/salud/datos_abiertos/etv/historicos/2021/datos_abiertos_dengue_181121.zip\n",
            "https://datosabiertos.salud.gob.mx/gobmx/salud/datos_abiertos/etv/historicos/2021/datos_abiertos_dengue_111121.zip\n",
            "https://datosabiertos.salud.gob.mx/gobmx/salud/datos_abiertos/etv/historicos/2021/datos_abiertos_dengue_041121.zip\n",
            "https://datosabiertos.salud.gob.mx/gobmx/salud/datos_abiertos/etv/historicos/2021/datos_abiertos_dengue_281021.zip\n",
            "https://datosabiertos.salud.gob.mx/gobmx/salud/datos_abiertos/etv/historicos/2021/datos_abiertos_dengue_211021.zip\n",
            "https://datosabiertos.salud.gob.mx/gobmx/salud/datos_abiertos/etv/historicos/2021/datos_abiertos_dengue_141021.zip\n",
            "https://datosabiertos.salud.gob.mx/gobmx/salud/datos_abiertos/etv/historicos/2021/datos_abiertos_dengue_071021.zip\n",
            "https://datosabiertos.salud.gob.mx/gobmx/salud/datos_abiertos/etv/historicos/2021/datos_abiertos_dengue_300921.zip\n",
            "https://datosabiertos.salud.gob.mx/gobmx/salud/datos_abiertos/etv/historicos/2021/datos_abiertos_dengue_230921.zip\n",
            "https://datosabiertos.salud.gob.mx/gobmx/salud/datos_abiertos/etv/historicos/2021/datos_abiertos_dengue_160921.zip\n",
            "https://datosabiertos.salud.gob.mx/gobmx/salud/datos_abiertos/etv/historicos/2021/datos_abiertos_dengue_090921.zip\n",
            "https://datosabiertos.salud.gob.mx/gobmx/salud/datos_abiertos/etv/historicos/2021/datos_abiertos_dengue_020921.zip\n",
            "https://datosabiertos.salud.gob.mx/gobmx/salud/datos_abiertos/etv/historicos/2021/datos_abiertos_dengue_260821.zip\n",
            "https://datosabiertos.salud.gob.mx/gobmx/salud/datos_abiertos/etv/historicos/2021/datos_abiertos_dengue_190821.zip\n",
            "https://datosabiertos.salud.gob.mx/gobmx/salud/datos_abiertos/etv/historicos/2021/datos_abiertos_dengue_120821.zip\n",
            "https://datosabiertos.salud.gob.mx/gobmx/salud/datos_abiertos/etv/historicos/2021/datos_abiertos_dengue_050821.zip\n",
            "https://datosabiertos.salud.gob.mx/gobmx/salud/datos_abiertos/etv/historicos/2021/datos_abiertos_dengue_290721.zip\n",
            "https://datosabiertos.salud.gob.mx/gobmx/salud/datos_abiertos/etv/historicos/2021/datos_abiertos_dengue_220721.zip\n",
            "https://datosabiertos.salud.gob.mx/gobmx/salud/datos_abiertos/etv/historicos/2021/datos_abiertos_dengue_150721.zip\n",
            "https://datosabiertos.salud.gob.mx/gobmx/salud/datos_abiertos/etv/historicos/2021/datos_abiertos_dengue_080721.zip\n",
            "https://datosabiertos.salud.gob.mx/gobmx/salud/datos_abiertos/etv/historicos/2021/datos_abiertos_dengue_010721.zip\n",
            "https://datosabiertos.salud.gob.mx/gobmx/salud/datos_abiertos/etv/historicos/2021/datos_abiertos_dengue_240621.zip\n",
            "https://datosabiertos.salud.gob.mx/gobmx/salud/datos_abiertos/etv/historicos/2021/datos_abiertos_dengue_170621.zip\n",
            "https://datosabiertos.salud.gob.mx/gobmx/salud/datos_abiertos/etv/historicos/2021/datos_abiertos_dengue_100621.zip\n",
            "https://datosabiertos.salud.gob.mx/gobmx/salud/datos_abiertos/etv/historicos/2021/datos_abiertos_dengue_030621.zip\n",
            "https://datosabiertos.salud.gob.mx/gobmx/salud/datos_abiertos/etv/historicos/2021/datos_abiertos_dengue_270521.zip\n",
            "https://datosabiertos.salud.gob.mx/gobmx/salud/datos_abiertos/etv/historicos/2021/datos_abiertos_dengue_210521.zip\n",
            "https://datosabiertos.salud.gob.mx/gobmx/salud/datos_abiertos/etv/historicos/2021/datos_abiertos_dengue_130521.zip\n",
            "https://datosabiertos.salud.gob.mx/gobmx/salud/datos_abiertos/etv/historicos/2021/datos_abiertos_dengue_060521.zip\n",
            "https://datosabiertos.salud.gob.mx/gobmx/salud/datos_abiertos/etv/historicos/2021/datos_abiertos_dengue_290421.zip\n",
            "https://datosabiertos.salud.gob.mx/gobmx/salud/datos_abiertos/etv/historicos/2021/datos_abiertos_dengue_220421.zip\n",
            "https://datosabiertos.salud.gob.mx/gobmx/salud/datos_abiertos/etv/historicos/2021/datos_abiertos_dengue_160421.zip\n",
            "https://datosabiertos.salud.gob.mx/gobmx/salud/datos_abiertos/etv/historicos/2021/datos_abiertos_dengue_080421.zip\n",
            "https://datosabiertos.salud.gob.mx/gobmx/salud/datos_abiertos/etv/historicos/2021/datos_abiertos_dengue_010421.zip\n",
            "https://datosabiertos.salud.gob.mx/gobmx/salud/datos_abiertos/etv/historicos/2021/datos_abiertos_dengue_250321.zip\n",
            "https://datosabiertos.salud.gob.mx/gobmx/salud/datos_abiertos/etv/historicos/2021/datos_abiertos_dengue_180321.zip\n",
            "https://datosabiertos.salud.gob.mx/gobmx/salud/datos_abiertos/etv/historicos/2021/datos_abiertos_dengue_110321.zip\n",
            "https://datosabiertos.salud.gob.mx/gobmx/salud/datos_abiertos/etv/historicos/2021/datos_abiertos_dengue_040321.zip\n",
            "https://datosabiertos.salud.gob.mx/gobmx/salud/datos_abiertos/etv/historicos/2021/datos_abiertos_dengue_250221.zip\n",
            "https://datosabiertos.salud.gob.mx/gobmx/salud/datos_abiertos/etv/historicos/2021/datos_abiertos_dengue_180221.zip\n",
            "https://datosabiertos.salud.gob.mx/gobmx/salud/datos_abiertos/etv/historicos/2021/datos_abiertos_dengue_110221.zip\n",
            "https://datosabiertos.salud.gob.mx/gobmx/salud/datos_abiertos/etv/historicos/2021/datos_abiertos_dengue_040221.zip\n",
            "https://datosabiertos.salud.gob.mx/gobmx/salud/datos_abiertos/etv/historicos/2021/datos_abiertos_dengue_280121.zip\n",
            "https://datosabiertos.salud.gob.mx/gobmx/salud/datos_abiertos/etv/historicos/2021/datos_abiertos_dengue_210121.zip\n",
            "https://datosabiertos.salud.gob.mx/gobmx/salud/datos_abiertos/etv/historicos/2021/datos_abiertos_dengue_140121.zip\n",
            "https://datosabiertos.salud.gob.mx/gobmx/salud/datos_abiertos/etv/historicos/2021/datos_abiertos_dengue_070121.zip\n",
            "https://datosabiertos.salud.gob.mx/gobmx/salud/datos_abiertos/etv/historicos/2024/datos_abiertos_dengue_041224.zip\n",
            "https://datosabiertos.salud.gob.mx/gobmx/salud/datos_abiertos/etv/historicos/2024/datos_abiertos_dengue_111224.zip\n",
            "https://datosabiertos.salud.gob.mx/gobmx/salud/datos_abiertos/etv/historicos/2024/datos_abiertos_dengue_191224.zip\n",
            "https://datosabiertos.salud.gob.mx/gobmx/salud/datos_abiertos/etv/historicos/2024/datos_abiertos_dengue_071124.zip\n",
            "https://datosabiertos.salud.gob.mx/gobmx/salud/datos_abiertos/etv/historicos/2024/datos_abiertos_dengue_151124.zip\n",
            "https://datosabiertos.salud.gob.mx/gobmx/salud/datos_abiertos/etv/historicos/2024/datos_abiertos_dengue_201124.zip\n",
            "https://datosabiertos.salud.gob.mx/gobmx/salud/datos_abiertos/etv/historicos/2024/datos_abiertos_dengue_271124.zip\n",
            "https://datosabiertos.salud.gob.mx/gobmx/salud/datos_abiertos/etv/historicos/2024/datos_abiertos_dengue_031024.zip\n",
            "https://datosabiertos.salud.gob.mx/gobmx/salud/datos_abiertos/etv/historicos/2024/datos_abiertos_dengue_091024.zip\n",
            "https://datosabiertos.salud.gob.mx/gobmx/salud/datos_abiertos/etv/historicos/2024/datos_abiertos_dengue_161024.zip\n",
            "https://datosabiertos.salud.gob.mx/gobmx/salud/datos_abiertos/etv/historicos/2024/datos_abiertos_dengue_231024.zip\n",
            "https://datosabiertos.salud.gob.mx/gobmx/salud/datos_abiertos/etv/historicos/2024/datos_abiertos_dengue_301024.zip\n",
            "https://datosabiertos.salud.gob.mx/gobmx/salud/datos_abiertos/etv/historicos/2024/datos_abiertos_dengue_040924.zip\n",
            "https://datosabiertos.salud.gob.mx/gobmx/salud/datos_abiertos/etv/historicos/2024/datos_abiertos_dengue_110924.zip\n",
            "https://datosabiertos.salud.gob.mx/gobmx/salud/datos_abiertos/etv/historicos/2024/datos_abiertos_dengue_260924.zip\n",
            "https://datosabiertos.salud.gob.mx/gobmx/salud/datos_abiertos/etv/historicos/2024/datos_abiertos_dengue_070824.zip\n",
            "https://datosabiertos.salud.gob.mx/gobmx/salud/datos_abiertos/etv/historicos/2024/datos_abiertos_dengue_150824.zip\n",
            "https://datosabiertos.salud.gob.mx/gobmx/salud/datos_abiertos/etv/historicos/2024/datos_abiertos_dengue_220824.zip\n",
            "https://datosabiertos.salud.gob.mx/gobmx/salud/datos_abiertos/etv/historicos/2024/datos_abiertos_dengue_280824.zip\n",
            "https://datosabiertos.salud.gob.mx/gobmx/salud/datos_abiertos/etv/historicos/2024/datos_abiertos_dengue_030724.zip\n",
            "https://datosabiertos.salud.gob.mx/gobmx/salud/datos_abiertos/etv/historicos/2024/datos_abiertos_dengue_100724.zip\n",
            "https://datosabiertos.salud.gob.mx/gobmx/salud/datos_abiertos/etv/historicos/2024/datos_abiertos_dengue_180724.zip\n",
            "https://datosabiertos.salud.gob.mx/gobmx/salud/datos_abiertos/etv/historicos/2024/datos_abiertos_dengue_240724.zip\n",
            "https://datosabiertos.salud.gob.mx/gobmx/salud/datos_abiertos/etv/historicos/2024/datos_abiertos_dengue_310724.zip\n",
            "https://datosabiertos.salud.gob.mx/gobmx/salud/datos_abiertos/etv/historicos/2024/datos_abiertos_dengue_050624.zip\n",
            "https://datosabiertos.salud.gob.mx/gobmx/salud/datos_abiertos/etv/historicos/2024/datos_abiertos_dengue_120624.zip\n",
            "https://datosabiertos.salud.gob.mx/gobmx/salud/datos_abiertos/etv/historicos/2024/datos_abiertos_dengue_190624.zip\n",
            "https://datosabiertos.salud.gob.mx/gobmx/salud/datos_abiertos/etv/historicos/2024/datos_abiertos_dengue_260624.zip\n",
            "https://datosabiertos.salud.gob.mx/gobmx/salud/datos_abiertos/etv/historicos/2024/datos_abiertos_dengue_010524.zip\n",
            "https://datosabiertos.salud.gob.mx/gobmx/salud/datos_abiertos/etv/historicos/2024/datos_abiertos_dengue_080524.zip\n",
            "https://datosabiertos.salud.gob.mx/gobmx/salud/datos_abiertos/etv/historicos/2024/datos_abiertos_dengue_150524.zip\n",
            "https://datosabiertos.salud.gob.mx/gobmx/salud/datos_abiertos/etv/historicos/2024/datos_abiertos_dengue_220524.zip\n",
            "https://datosabiertos.salud.gob.mx/gobmx/salud/datos_abiertos/etv/historicos/2024/datos_abiertos_dengue_290524.zip\n",
            "https://datosabiertos.salud.gob.mx/gobmx/salud/datos_abiertos/etv/historicos/2024/datos_abiertos_dengue_030424.zip\n",
            "https://datosabiertos.salud.gob.mx/gobmx/salud/datos_abiertos/etv/historicos/2024/datos_abiertos_dengue_100424.zip\n",
            "https://datosabiertos.salud.gob.mx/gobmx/salud/datos_abiertos/etv/historicos/2024/datos_abiertos_dengue_170424.zip\n",
            "https://datosabiertos.salud.gob.mx/gobmx/salud/datos_abiertos/etv/historicos/2024/datos_abiertos_dengue_240424.zip\n",
            "https://datosabiertos.salud.gob.mx/gobmx/salud/datos_abiertos/etv/historicos/2024/datos_abiertos_dengue_060324.zip\n",
            "https://datosabiertos.salud.gob.mx/gobmx/salud/datos_abiertos/etv/historicos/2024/datos_abiertos_dengue_130324.zip\n",
            "https://datosabiertos.salud.gob.mx/gobmx/salud/datos_abiertos/etv/historicos/2024/datos_abiertos_dengue_200324.zip\n",
            "https://datosabiertos.salud.gob.mx/gobmx/salud/datos_abiertos/etv/historicos/2024/datos_abiertos_dengue_270324.zip\n",
            "https://datosabiertos.salud.gob.mx/gobmx/salud/datos_abiertos/etv/historicos/2024/datos_abiertos_dengue_070224.zip\n",
            "https://datosabiertos.salud.gob.mx/gobmx/salud/datos_abiertos/etv/historicos/2024/datos_abiertos_dengue_140224.zip\n",
            "https://datosabiertos.salud.gob.mx/gobmx/salud/datos_abiertos/etv/historicos/2024/datos_abiertos_dengue_210224.zip\n",
            "https://datosabiertos.salud.gob.mx/gobmx/salud/datos_abiertos/etv/historicos/2024/datos_abiertos_dengue_280224.zip\n",
            "https://datosabiertos.salud.gob.mx/gobmx/salud/datos_abiertos/etv/historicos/2024/datos_abiertos_dengue_050124.zip\n",
            "https://datosabiertos.salud.gob.mx/gobmx/salud/datos_abiertos/etv/historicos/2024/datos_abiertos_dengue_120124.zip\n",
            "https://datosabiertos.salud.gob.mx/gobmx/salud/datos_abiertos/etv/historicos/2024/datos_abiertos_dengue_190124.zip\n",
            "https://datosabiertos.salud.gob.mx/gobmx/salud/datos_abiertos/etv/historicos/2024/datos_abiertos_dengue_260124.zip\n",
            "https://datosabiertos.salud.gob.mx/gobmx/salud/datos_abiertos/etv/historicos/2023/datos_abiertos_dengue_061223.zip\n",
            "https://datosabiertos.salud.gob.mx/gobmx/salud/datos_abiertos/etv/historicos/2023/datos_abiertos_dengue_131223.zip\n",
            "https://datosabiertos.salud.gob.mx/gobmx/salud/datos_abiertos/etv/historicos/2023/datos_abiertos_dengue_201223.zip\n",
            "https://datosabiertos.salud.gob.mx/gobmx/salud/datos_abiertos/etv/historicos/2023/datos_abiertos_dengue_271223.zip\n",
            "https://datosabiertos.salud.gob.mx/gobmx/salud/datos_abiertos/etv/historicos/2023/datos_abiertos_dengue_011123.zip\n",
            "https://datosabiertos.salud.gob.mx/gobmx/salud/datos_abiertos/etv/historicos/2023/datos_abiertos_dengue_081123.zip\n",
            "https://datosabiertos.salud.gob.mx/gobmx/salud/datos_abiertos/etv/historicos/2023/datos_abiertos_dengue_151123.zip\n",
            "https://datosabiertos.salud.gob.mx/gobmx/salud/datos_abiertos/etv/historicos/2023/datos_abiertos_dengue_221123.zip\n",
            "https://datosabiertos.salud.gob.mx/gobmx/salud/datos_abiertos/etv/historicos/2023/datos_abiertos_dengue_291123.zip\n",
            "https://datosabiertos.salud.gob.mx/gobmx/salud/datos_abiertos/etv/historicos/2023/datos_abiertos_dengue_051023.zip\n",
            "https://datosabiertos.salud.gob.mx/gobmx/salud/datos_abiertos/etv/historicos/2023/datos_abiertos_dengue_121023.zip\n",
            "https://datosabiertos.salud.gob.mx/gobmx/salud/datos_abiertos/etv/historicos/2023/datos_abiertos_dengue_191023.zip\n",
            "https://datosabiertos.salud.gob.mx/gobmx/salud/datos_abiertos/etv/historicos/2023/datos_abiertos_dengue_261023.zip\n",
            "https://datosabiertos.salud.gob.mx/gobmx/salud/datos_abiertos/etv/historicos/2023/datos_abiertos_dengue_060923.zip\n",
            "https://datosabiertos.salud.gob.mx/gobmx/salud/datos_abiertos/etv/historicos/2023/datos_abiertos_dengue_130923.zip\n",
            "https://datosabiertos.salud.gob.mx/gobmx/salud/datos_abiertos/etv/historicos/2023/datos_abiertos_dengue_200923.zip\n",
            "https://datosabiertos.salud.gob.mx/gobmx/salud/datos_abiertos/etv/historicos/2023/datos_abiertos_dengue_270923.zip\n",
            "https://datosabiertos.salud.gob.mx/gobmx/salud/datos_abiertos/etv/historicos/2023/datos_abiertos_dengue_020823.zip\n",
            "https://datosabiertos.salud.gob.mx/gobmx/salud/datos_abiertos/etv/historicos/2023/datos_abiertos_dengue_090823.zip\n",
            "https://datosabiertos.salud.gob.mx/gobmx/salud/datos_abiertos/etv/historicos/2023/datos_abiertos_dengue_160823.zip\n",
            "https://datosabiertos.salud.gob.mx/gobmx/salud/datos_abiertos/etv/historicos/2023/datos_abiertos_dengue_230823.zip\n",
            "https://datosabiertos.salud.gob.mx/gobmx/salud/datos_abiertos/etv/historicos/2023/datos_abiertos_dengue_300823.zip\n",
            "https://datosabiertos.salud.gob.mx/gobmx/salud/datos_abiertos/etv/historicos/2023/datos_abiertos_dengue_050723.zip\n",
            "https://datosabiertos.salud.gob.mx/gobmx/salud/datos_abiertos/etv/historicos/2023/datos_abiertos_dengue_130723.zip\n",
            "https://datosabiertos.salud.gob.mx/gobmx/salud/datos_abiertos/etv/historicos/2023/datos_abiertos_dengue_190723.zip\n",
            "https://datosabiertos.salud.gob.mx/gobmx/salud/datos_abiertos/etv/historicos/2023/datos_abiertos_dengue_260723.zip\n",
            "https://datosabiertos.salud.gob.mx/gobmx/salud/datos_abiertos/etv/historicos/2023/datos_abiertos_dengue_080623.zip\n",
            "https://datosabiertos.salud.gob.mx/gobmx/salud/datos_abiertos/etv/historicos/2023/datos_abiertos_dengue_150623.zip\n",
            "https://datosabiertos.salud.gob.mx/gobmx/salud/datos_abiertos/etv/historicos/2023/datos_abiertos_dengue_220623.zip\n",
            "https://datosabiertos.salud.gob.mx/gobmx/salud/datos_abiertos/etv/historicos/2023/datos_abiertos_dengue_290623.zip\n",
            "https://datosabiertos.salud.gob.mx/gobmx/salud/datos_abiertos/etv/historicos/2023/datos_abiertos_dengue_040523.zip\n",
            "https://datosabiertos.salud.gob.mx/gobmx/salud/datos_abiertos/etv/historicos/2023/datos_abiertos_dengue_110523.zip\n",
            "https://datosabiertos.salud.gob.mx/gobmx/salud/datos_abiertos/etv/historicos/2023/datos_abiertos_dengue_180523.zip\n",
            "https://datosabiertos.salud.gob.mx/gobmx/salud/datos_abiertos/etv/historicos/2023/datos_abiertos_dengue_250523.zip\n",
            "https://datosabiertos.salud.gob.mx/gobmx/salud/datos_abiertos/etv/historicos/2023/datos_abiertos_dengue_060423.zip\n",
            "https://datosabiertos.salud.gob.mx/gobmx/salud/datos_abiertos/etv/historicos/2023/datos_abiertos_dengue_130423.zip\n",
            "https://datosabiertos.salud.gob.mx/gobmx/salud/datos_abiertos/etv/historicos/2023/datos_abiertos_dengue_200423.zip\n",
            "https://datosabiertos.salud.gob.mx/gobmx/salud/datos_abiertos/etv/historicos/2023/datos_abiertos_dengue_270423.zip\n",
            "https://datosabiertos.salud.gob.mx/gobmx/salud/datos_abiertos/etv/historicos/2023/datos_abiertos_dengue_020323.zip\n",
            "https://datosabiertos.salud.gob.mx/gobmx/salud/datos_abiertos/etv/historicos/2023/datos_abiertos_dengue_090323.zip\n",
            "https://datosabiertos.salud.gob.mx/gobmx/salud/datos_abiertos/etv/historicos/2023/datos_abiertos_dengue_160323.zip\n",
            "https://datosabiertos.salud.gob.mx/gobmx/salud/datos_abiertos/etv/historicos/2023/datos_abiertos_dengue_230323.zip\n",
            "https://datosabiertos.salud.gob.mx/gobmx/salud/datos_abiertos/etv/historicos/2023/datos_abiertos_dengue_230323.zip\n",
            "https://datosabiertos.salud.gob.mx/gobmx/salud/datos_abiertos/etv/historicos/2023/datos_abiertos_dengue_020223.zip\n",
            "https://datosabiertos.salud.gob.mx/gobmx/salud/datos_abiertos/etv/historicos/2023/datos_abiertos_dengue_090223.zip\n",
            "https://datosabiertos.salud.gob.mx/gobmx/salud/datos_abiertos/etv/historicos/2023/datos_abiertos_dengue_160223.zip\n",
            "https://datosabiertos.salud.gob.mx/gobmx/salud/datos_abiertos/etv/historicos/2023/datos_abiertos_dengue_230223.zip\n",
            "https://datosabiertos.salud.gob.mx/gobmx/salud/datos_abiertos/etv/historicos/2023/datos_abiertos_dengue_050123.zip\n",
            "https://datosabiertos.salud.gob.mx/gobmx/salud/datos_abiertos/etv/historicos/2023/datos_abiertos_dengue_120123.zip\n",
            "https://datosabiertos.salud.gob.mx/gobmx/salud/datos_abiertos/etv/historicos/2023/datos_abiertos_dengue_190123.zip\n",
            "https://datosabiertos.salud.gob.mx/gobmx/salud/datos_abiertos/etv/historicos/2023/datos_abiertos_dengue_260123.zip\n",
            "https://datosabiertos.salud.gob.mx/gobmx/salud/datos_abiertos/etv/historicos/2020/datos_abiertos_dengue_311220.zip\n",
            "https://datosabiertos.salud.gob.mx/gobmx/salud/datos_abiertos/etv/historicos/2020/datos_abiertos_dengue_241220.zip\n",
            "https://datosabiertos.salud.gob.mx/gobmx/salud/datos_abiertos/etv/historicos/2020/datos_abiertos_dengue_171220.zip\n",
            "https://datosabiertos.salud.gob.mx/gobmx/salud/datos_abiertos/etv/historicos/2020/datos_abiertos_dengue_101220.zip\n",
            "https://datosabiertos.salud.gob.mx/gobmx/salud/datos_abiertos/etv/historicos/2020/datos_abiertos_dengue_031220.zip\n",
            "https://datosabiertos.salud.gob.mx/gobmx/salud/datos_abiertos/etv/historicos/2022/datos_abiertos_dengue_011222.zip\n",
            "https://datosabiertos.salud.gob.mx/gobmx/salud/datos_abiertos/etv/historicos/2022/datos_abiertos_dengue_081222.zip\n",
            "https://datosabiertos.salud.gob.mx/gobmx/salud/datos_abiertos/etv/historicos/2022/datos_abiertos_dengue_151222.zip\n",
            "https://datosabiertos.salud.gob.mx/gobmx/salud/datos_abiertos/etv/historicos/2022/datos_abiertos_dengue_131222.zip\n",
            "https://datosabiertos.salud.gob.mx/gobmx/salud/datos_abiertos/etv/historicos/2022/datos_abiertos_dengue_291222.zip\n",
            "https://datosabiertos.salud.gob.mx/gobmx/salud/datos_abiertos/etv/historicos/2022/datos_abiertos_dengue_031122.zip\n",
            "https://datosabiertos.salud.gob.mx/gobmx/salud/datos_abiertos/etv/historicos/2022/datos_abiertos_dengue_101122.zip\n",
            "https://datosabiertos.salud.gob.mx/gobmx/salud/datos_abiertos/etv/historicos/2022/datos_abiertos_dengue_171122.zip\n",
            "https://datosabiertos.salud.gob.mx/gobmx/salud/datos_abiertos/etv/historicos/2022/datos_abiertos_dengue_241122.zip\n",
            "https://datosabiertos.salud.gob.mx/gobmx/salud/datos_abiertos/etv/historicos/2022/datos_abiertos_dengue_061022.zip\n",
            "https://datosabiertos.salud.gob.mx/gobmx/salud/datos_abiertos/etv/historicos/2022/datos_abiertos_dengue_131022.zip\n",
            "https://datosabiertos.salud.gob.mx/gobmx/salud/datos_abiertos/etv/historicos/2022/datos_abiertos_dengue_201022.zip\n",
            "https://datosabiertos.salud.gob.mx/gobmx/salud/datos_abiertos/etv/historicos/2022/datos_abiertos_dengue_271022.zip\n",
            "https://datosabiertos.salud.gob.mx/gobmx/salud/datos_abiertos/etv/historicos/2022/datos_abiertos_dengue_010922.zip\n",
            "https://datosabiertos.salud.gob.mx/gobmx/salud/datos_abiertos/etv/historicos/2022/datos_abiertos_dengue_080922.zip\n",
            "https://datosabiertos.salud.gob.mx/gobmx/salud/datos_abiertos/etv/historicos/2022/datos_abiertos_dengue_150922.zip\n",
            "https://datosabiertos.salud.gob.mx/gobmx/salud/datos_abiertos/etv/historicos/2022/datos_abiertos_dengue_220922.zip\n",
            "https://datosabiertos.salud.gob.mx/gobmx/salud/datos_abiertos/etv/historicos/2022/datos_abiertos_dengue_290922.zip\n",
            "https://datosabiertos.salud.gob.mx/gobmx/salud/datos_abiertos/etv/historicos/2022/datos_abiertos_dengue_040822.zip\n",
            "https://datosabiertos.salud.gob.mx/gobmx/salud/datos_abiertos/etv/historicos/2022/datos_abiertos_dengue_110822.zip\n",
            "https://datosabiertos.salud.gob.mx/gobmx/salud/datos_abiertos/etv/historicos/2022/datos_abiertos_dengue_180822.zip\n",
            "https://datosabiertos.salud.gob.mx/gobmx/salud/datos_abiertos/etv/historicos/2022/datos_abiertos_dengue_250822.zip\n",
            "https://datosabiertos.salud.gob.mx/gobmx/salud/datos_abiertos/etv/historicos/2022/datos_abiertos_dengue_070722.zip\n",
            "https://datosabiertos.salud.gob.mx/gobmx/salud/datos_abiertos/etv/historicos/2022/datos_abiertos_dengue_140722.zip\n",
            "https://datosabiertos.salud.gob.mx/gobmx/salud/datos_abiertos/etv/historicos/2022/datos_abiertos_dengue_210722.zip\n",
            "https://datosabiertos.salud.gob.mx/gobmx/salud/datos_abiertos/etv/historicos/2022/datos_abiertos_dengue_280722.zip\n",
            "https://datosabiertos.salud.gob.mx/gobmx/salud/datos_abiertos/etv/historicos/2022/datos_abiertos_dengue_020622.zip\n",
            "https://datosabiertos.salud.gob.mx/gobmx/salud/datos_abiertos/etv/historicos/2022/datos_abiertos_dengue_090622.zip\n",
            "https://datosabiertos.salud.gob.mx/gobmx/salud/datos_abiertos/etv/historicos/2022/datos_abiertos_dengue_160622.zip\n",
            "https://datosabiertos.salud.gob.mx/gobmx/salud/datos_abiertos/etv/historicos/2022/datos_abiertos_dengue_230622.zip\n",
            "https://datosabiertos.salud.gob.mx/gobmx/salud/datos_abiertos/etv/historicos/2022/datos_abiertos_dengue_300622.zip\n",
            "https://datosabiertos.salud.gob.mx/gobmx/salud/datos_abiertos/etv/historicos/2022/datos_abiertos_dengue_050522.zip\n",
            "https://datosabiertos.salud.gob.mx/gobmx/salud/datos_abiertos/etv/historicos/2022/datos_abiertos_dengue_120522.zip\n",
            "https://datosabiertos.salud.gob.mx/gobmx/salud/datos_abiertos/etv/historicos/2022/datos_abiertos_dengue_190522.zip\n",
            "https://datosabiertos.salud.gob.mx/gobmx/salud/datos_abiertos/etv/historicos/2022/datos_abiertos_dengue_260522.zip\n",
            "https://datosabiertos.salud.gob.mx/gobmx/salud/datos_abiertos/etv/historicos/2022/datos_abiertos_dengue_070422.zip\n",
            "https://datosabiertos.salud.gob.mx/gobmx/salud/datos_abiertos/etv/historicos/2022/datos_abiertos_dengue_140422.zip\n",
            "https://datosabiertos.salud.gob.mx/gobmx/salud/datos_abiertos/etv/historicos/2022/datos_abiertos_dengue_210422.zip\n",
            "https://datosabiertos.salud.gob.mx/gobmx/salud/datos_abiertos/etv/historicos/2022/datos_abiertos_dengue_280422.zip\n",
            "https://datosabiertos.salud.gob.mx/gobmx/salud/datos_abiertos/etv/historicos/2022/datos_abiertos_dengue_030322.zip\n",
            "https://datosabiertos.salud.gob.mx/gobmx/salud/datos_abiertos/etv/historicos/2022/datos_abiertos_dengue_100322.zip\n",
            "https://datosabiertos.salud.gob.mx/gobmx/salud/datos_abiertos/etv/historicos/2022/datos_abiertos_dengue_170322.zip\n",
            "https://datosabiertos.salud.gob.mx/gobmx/salud/datos_abiertos/etv/historicos/2022/datos_abiertos_dengue_240322.zip\n",
            "https://datosabiertos.salud.gob.mx/gobmx/salud/datos_abiertos/etv/historicos/2022/datos_abiertos_dengue_310322.zip\n",
            "https://datosabiertos.salud.gob.mx/gobmx/salud/datos_abiertos/etv/historicos/2022/datos_abiertos_dengue_030222.zip\n",
            "https://datosabiertos.salud.gob.mx/gobmx/salud/datos_abiertos/etv/historicos/2022/datos_abiertos_dengue_100222.zip\n",
            "https://datosabiertos.salud.gob.mx/gobmx/salud/datos_abiertos/etv/historicos/2022/datos_abiertos_dengue_170222.zip\n",
            "https://datosabiertos.salud.gob.mx/gobmx/salud/datos_abiertos/etv/historicos/2022/datos_abiertos_dengue_280222.zip\n",
            "https://datosabiertos.salud.gob.mx/gobmx/salud/datos_abiertos/etv/historicos/2022/datos_abiertos_dengue_060122.zip\n",
            "https://datosabiertos.salud.gob.mx/gobmx/salud/datos_abiertos/etv/historicos/2022/datos_abiertos_dengue_130122.zip\n",
            "https://datosabiertos.salud.gob.mx/gobmx/salud/datos_abiertos/etv/historicos/2022/datos_abiertos_dengue_200122.zip\n",
            "https://datosabiertos.salud.gob.mx/gobmx/salud/datos_abiertos/etv/historicos/2022/datos_abiertos_dengue_270122.zip\n",
            "https://datosabiertos.salud.gob.mx/gobmx/salud/datos_abiertos/etv/historicos/2025/datos_abiertos_dengue_040425.zip\n",
            "https://datosabiertos.salud.gob.mx/gobmx/salud/datos_abiertos/etv/historicos/2025/datos_abiertos_dengue_100425.zip\n",
            "https://datosabiertos.salud.gob.mx/gobmx/salud/datos_abiertos/etv/historicos/2025/datos_abiertos_dengue_160425.zip\n",
            "https://datosabiertos.salud.gob.mx/gobmx/salud/datos_abiertos/etv/historicos/2025/datos_abiertos_dengue_240425.zip\n",
            "https://datosabiertos.salud.gob.mx/gobmx/salud/datos_abiertos/etv/historicos/2025/datos_abiertos_dengue_300425.zip\n",
            "https://datosabiertos.salud.gob.mx/gobmx/salud/datos_abiertos/etv/historicos/2025/datos_abiertos_dengue_060325.zip\n",
            "https://datosabiertos.salud.gob.mx/gobmx/salud/datos_abiertos/etv/historicos/2025/datos_abiertos_dengue_130325.zip\n",
            "https://datosabiertos.salud.gob.mx/gobmx/salud/datos_abiertos/etv/historicos/2025/datos_abiertos_dengue_210325.zip\n",
            "https://datosabiertos.salud.gob.mx/gobmx/salud/datos_abiertos/etv/historicos/2025/datos_abiertos_dengue_270325.zip\n",
            "https://datosabiertos.salud.gob.mx/gobmx/salud/datos_abiertos/etv/historicos/2025/datos_abiertos_dengue_060225.zip\n",
            "https://datosabiertos.salud.gob.mx/gobmx/salud/datos_abiertos/etv/historicos/2025/datos_abiertos_dengue_130225.zip\n",
            "https://datosabiertos.salud.gob.mx/gobmx/salud/datos_abiertos/etv/historicos/2025/datos_abiertos_dengue_200225.zip\n",
            "https://datosabiertos.salud.gob.mx/gobmx/salud/datos_abiertos/etv/historicos/2025/datos_abiertos_dengue_250225.zip\n",
            "https://datosabiertos.salud.gob.mx/gobmx/salud/datos_abiertos/etv/historicos/2025/datos_abiertos_dengue_080125.zip\n",
            "https://datosabiertos.salud.gob.mx/gobmx/salud/datos_abiertos/etv/historicos/2025/datos_abiertos_dengue_160125.zip\n",
            "https://datosabiertos.salud.gob.mx/gobmx/salud/datos_abiertos/etv/historicos/2025/datos_abiertos_dengue_230125.zip\n",
            "https://datosabiertos.salud.gob.mx/gobmx/salud/datos_abiertos/etv/historicos/2025/datos_abiertos_dengue_300125.zip\n"
          ]
        }
      ]
    },
    {
      "cell_type": "code",
      "source": [
        "output_dir = 'zip'\n",
        "os.makedirs(output_dir, exist_ok=True)\n",
        "\n",
        "with open('links.txt', mode='r') as historicos_zip:\n",
        "    for line in historicos_zip:\n",
        "        url = line.strip()\n",
        "        if not url:\n",
        "            continue\n",
        "\n",
        "        filename = url.split('/')[-1]\n",
        "        output_path = os.path.join(output_dir, filename)\n",
        "\n",
        "        try:\n",
        "            response = requests.get(url)\n",
        "            response.raise_for_status()\n",
        "\n",
        "            with open(output_path, 'wb') as f:\n",
        "                f.write(response.content)\n",
        "            print(f\"Descargado: {filename}\")\n",
        "\n",
        "        except requests.RequestException as e:\n",
        "            print(f\"Error al descargar {filename}: {e}\")\n"
      ],
      "metadata": {
        "colab": {
          "base_uri": "https://localhost:8080/"
        },
        "id": "RgshNm6QZbqW",
        "outputId": "0ea91109-6b65-4091-eb83-6bfb9a704a63"
      },
      "execution_count": null,
      "outputs": [
        {
          "output_type": "stream",
          "name": "stdout",
          "text": [
            "Descargado: datos_abiertos_dengue_301221.zip\n",
            "Descargado: datos_abiertos_dengue_231221.zip\n",
            "Descargado: datos_abiertos_dengue_161221.zip\n",
            "Descargado: datos_abiertos_dengue_091221.zip\n",
            "Descargado: datos_abiertos_dengue_021221.zip\n",
            "Descargado: datos_abiertos_dengue_251121.zip\n",
            "Descargado: datos_abiertos_dengue_181121.zip\n",
            "Descargado: datos_abiertos_dengue_111121.zip\n",
            "Descargado: datos_abiertos_dengue_041121.zip\n",
            "Descargado: datos_abiertos_dengue_281021.zip\n",
            "Descargado: datos_abiertos_dengue_211021.zip\n",
            "Descargado: datos_abiertos_dengue_141021.zip\n",
            "Descargado: datos_abiertos_dengue_071021.zip\n",
            "Descargado: datos_abiertos_dengue_300921.zip\n",
            "Descargado: datos_abiertos_dengue_230921.zip\n",
            "Descargado: datos_abiertos_dengue_160921.zip\n",
            "Descargado: datos_abiertos_dengue_090921.zip\n",
            "Descargado: datos_abiertos_dengue_020921.zip\n",
            "Descargado: datos_abiertos_dengue_260821.zip\n",
            "Descargado: datos_abiertos_dengue_190821.zip\n",
            "Descargado: datos_abiertos_dengue_120821.zip\n",
            "Error al descargar datos_abiertos_dengue_050821.zip: 404 Client Error: Not Found for url: https://datosabiertos.salud.gob.mx/gobmx/salud/datos_abiertos/etv/historicos/2021/datos_abiertos_dengue_050821.zip\n",
            "Descargado: datos_abiertos_dengue_290721.zip\n",
            "Descargado: datos_abiertos_dengue_220721.zip\n",
            "Descargado: datos_abiertos_dengue_150721.zip\n",
            "Error al descargar datos_abiertos_dengue_080721.zip: 404 Client Error: Not Found for url: https://datosabiertos.salud.gob.mx/gobmx/salud/datos_abiertos/etv/historicos/2021/datos_abiertos_dengue_080721.zip\n",
            "Descargado: datos_abiertos_dengue_010721.zip\n",
            "Descargado: datos_abiertos_dengue_240621.zip\n",
            "Descargado: datos_abiertos_dengue_170621.zip\n",
            "Descargado: datos_abiertos_dengue_100621.zip\n",
            "Descargado: datos_abiertos_dengue_030621.zip\n",
            "Descargado: datos_abiertos_dengue_270521.zip\n",
            "Descargado: datos_abiertos_dengue_210521.zip\n",
            "Descargado: datos_abiertos_dengue_130521.zip\n",
            "Descargado: datos_abiertos_dengue_060521.zip\n",
            "Descargado: datos_abiertos_dengue_290421.zip\n",
            "Descargado: datos_abiertos_dengue_220421.zip\n",
            "Descargado: datos_abiertos_dengue_160421.zip\n",
            "Descargado: datos_abiertos_dengue_080421.zip\n",
            "Descargado: datos_abiertos_dengue_010421.zip\n",
            "Descargado: datos_abiertos_dengue_250321.zip\n",
            "Descargado: datos_abiertos_dengue_180321.zip\n",
            "Descargado: datos_abiertos_dengue_110321.zip\n",
            "Descargado: datos_abiertos_dengue_040321.zip\n",
            "Descargado: datos_abiertos_dengue_250221.zip\n",
            "Descargado: datos_abiertos_dengue_180221.zip\n",
            "Descargado: datos_abiertos_dengue_110221.zip\n",
            "Descargado: datos_abiertos_dengue_040221.zip\n",
            "Descargado: datos_abiertos_dengue_280121.zip\n",
            "Descargado: datos_abiertos_dengue_210121.zip\n",
            "Descargado: datos_abiertos_dengue_140121.zip\n",
            "Descargado: datos_abiertos_dengue_070121.zip\n",
            "Descargado: datos_abiertos_dengue_041224.zip\n",
            "Descargado: datos_abiertos_dengue_111224.zip\n",
            "Descargado: datos_abiertos_dengue_191224.zip\n",
            "Descargado: datos_abiertos_dengue_071124.zip\n",
            "Descargado: datos_abiertos_dengue_151124.zip\n",
            "Descargado: datos_abiertos_dengue_201124.zip\n",
            "Descargado: datos_abiertos_dengue_271124.zip\n",
            "Descargado: datos_abiertos_dengue_031024.zip\n",
            "Descargado: datos_abiertos_dengue_091024.zip\n",
            "Descargado: datos_abiertos_dengue_161024.zip\n",
            "Descargado: datos_abiertos_dengue_231024.zip\n",
            "Descargado: datos_abiertos_dengue_301024.zip\n",
            "Descargado: datos_abiertos_dengue_040924.zip\n",
            "Descargado: datos_abiertos_dengue_110924.zip\n",
            "Descargado: datos_abiertos_dengue_260924.zip\n",
            "Descargado: datos_abiertos_dengue_070824.zip\n",
            "Descargado: datos_abiertos_dengue_150824.zip\n",
            "Descargado: datos_abiertos_dengue_220824.zip\n",
            "Descargado: datos_abiertos_dengue_280824.zip\n",
            "Descargado: datos_abiertos_dengue_030724.zip\n",
            "Descargado: datos_abiertos_dengue_100724.zip\n",
            "Descargado: datos_abiertos_dengue_180724.zip\n",
            "Descargado: datos_abiertos_dengue_240724.zip\n",
            "Descargado: datos_abiertos_dengue_310724.zip\n",
            "Descargado: datos_abiertos_dengue_050624.zip\n",
            "Descargado: datos_abiertos_dengue_120624.zip\n",
            "Descargado: datos_abiertos_dengue_190624.zip\n",
            "Descargado: datos_abiertos_dengue_260624.zip\n",
            "Descargado: datos_abiertos_dengue_010524.zip\n",
            "Descargado: datos_abiertos_dengue_080524.zip\n",
            "Descargado: datos_abiertos_dengue_150524.zip\n",
            "Descargado: datos_abiertos_dengue_220524.zip\n",
            "Descargado: datos_abiertos_dengue_290524.zip\n",
            "Descargado: datos_abiertos_dengue_030424.zip\n",
            "Descargado: datos_abiertos_dengue_100424.zip\n",
            "Descargado: datos_abiertos_dengue_170424.zip\n",
            "Descargado: datos_abiertos_dengue_240424.zip\n",
            "Descargado: datos_abiertos_dengue_060324.zip\n",
            "Descargado: datos_abiertos_dengue_130324.zip\n",
            "Descargado: datos_abiertos_dengue_200324.zip\n",
            "Descargado: datos_abiertos_dengue_270324.zip\n",
            "Descargado: datos_abiertos_dengue_070224.zip\n",
            "Descargado: datos_abiertos_dengue_140224.zip\n",
            "Descargado: datos_abiertos_dengue_210224.zip\n",
            "Descargado: datos_abiertos_dengue_280224.zip\n",
            "Error al descargar datos_abiertos_dengue_050124.zip: 404 Client Error: Not Found for url: https://datosabiertos.salud.gob.mx/gobmx/salud/datos_abiertos/etv/historicos/2024/datos_abiertos_dengue_050124.zip\n",
            "Error al descargar datos_abiertos_dengue_120124.zip: 404 Client Error: Not Found for url: https://datosabiertos.salud.gob.mx/gobmx/salud/datos_abiertos/etv/historicos/2024/datos_abiertos_dengue_120124.zip\n",
            "Error al descargar datos_abiertos_dengue_190124.zip: 404 Client Error: Not Found for url: https://datosabiertos.salud.gob.mx/gobmx/salud/datos_abiertos/etv/historicos/2024/datos_abiertos_dengue_190124.zip\n",
            "Error al descargar datos_abiertos_dengue_260124.zip: 404 Client Error: Not Found for url: https://datosabiertos.salud.gob.mx/gobmx/salud/datos_abiertos/etv/historicos/2024/datos_abiertos_dengue_260124.zip\n",
            "Descargado: datos_abiertos_dengue_061223.zip\n",
            "Descargado: datos_abiertos_dengue_131223.zip\n",
            "Descargado: datos_abiertos_dengue_201223.zip\n",
            "Descargado: datos_abiertos_dengue_271223.zip\n",
            "Descargado: datos_abiertos_dengue_011123.zip\n",
            "Descargado: datos_abiertos_dengue_081123.zip\n",
            "Descargado: datos_abiertos_dengue_151123.zip\n",
            "Descargado: datos_abiertos_dengue_221123.zip\n",
            "Descargado: datos_abiertos_dengue_291123.zip\n",
            "Descargado: datos_abiertos_dengue_051023.zip\n",
            "Descargado: datos_abiertos_dengue_121023.zip\n",
            "Descargado: datos_abiertos_dengue_191023.zip\n",
            "Descargado: datos_abiertos_dengue_261023.zip\n",
            "Descargado: datos_abiertos_dengue_060923.zip\n",
            "Descargado: datos_abiertos_dengue_130923.zip\n",
            "Descargado: datos_abiertos_dengue_200923.zip\n",
            "Descargado: datos_abiertos_dengue_270923.zip\n",
            "Descargado: datos_abiertos_dengue_020823.zip\n",
            "Descargado: datos_abiertos_dengue_090823.zip\n",
            "Descargado: datos_abiertos_dengue_160823.zip\n",
            "Descargado: datos_abiertos_dengue_230823.zip\n",
            "Descargado: datos_abiertos_dengue_300823.zip\n",
            "Descargado: datos_abiertos_dengue_050723.zip\n",
            "Descargado: datos_abiertos_dengue_130723.zip\n",
            "Descargado: datos_abiertos_dengue_190723.zip\n",
            "Descargado: datos_abiertos_dengue_260723.zip\n",
            "Descargado: datos_abiertos_dengue_080623.zip\n",
            "Descargado: datos_abiertos_dengue_150623.zip\n",
            "Descargado: datos_abiertos_dengue_220623.zip\n",
            "Error al descargar datos_abiertos_dengue_290623.zip: 404 Client Error: Not Found for url: https://datosabiertos.salud.gob.mx/gobmx/salud/datos_abiertos/etv/historicos/2023/datos_abiertos_dengue_290623.zip\n",
            "Descargado: datos_abiertos_dengue_040523.zip\n",
            "Descargado: datos_abiertos_dengue_110523.zip\n",
            "Descargado: datos_abiertos_dengue_180523.zip\n",
            "Descargado: datos_abiertos_dengue_250523.zip\n",
            "Descargado: datos_abiertos_dengue_060423.zip\n",
            "Descargado: datos_abiertos_dengue_130423.zip\n",
            "Descargado: datos_abiertos_dengue_200423.zip\n",
            "Descargado: datos_abiertos_dengue_270423.zip\n",
            "Descargado: datos_abiertos_dengue_020323.zip\n",
            "Descargado: datos_abiertos_dengue_090323.zip\n",
            "Descargado: datos_abiertos_dengue_160323.zip\n",
            "Descargado: datos_abiertos_dengue_230323.zip\n",
            "Descargado: datos_abiertos_dengue_230323.zip\n",
            "Descargado: datos_abiertos_dengue_020223.zip\n",
            "Descargado: datos_abiertos_dengue_090223.zip\n",
            "Descargado: datos_abiertos_dengue_160223.zip\n",
            "Descargado: datos_abiertos_dengue_230223.zip\n",
            "Descargado: datos_abiertos_dengue_050123.zip\n",
            "Descargado: datos_abiertos_dengue_120123.zip\n",
            "Descargado: datos_abiertos_dengue_190123.zip\n",
            "Descargado: datos_abiertos_dengue_260123.zip\n",
            "Descargado: datos_abiertos_dengue_311220.zip\n",
            "Descargado: datos_abiertos_dengue_241220.zip\n",
            "Descargado: datos_abiertos_dengue_171220.zip\n",
            "Descargado: datos_abiertos_dengue_101220.zip\n",
            "Descargado: datos_abiertos_dengue_031220.zip\n",
            "Descargado: datos_abiertos_dengue_011222.zip\n",
            "Descargado: datos_abiertos_dengue_081222.zip\n",
            "Descargado: datos_abiertos_dengue_151222.zip\n",
            "Error al descargar datos_abiertos_dengue_131222.zip: 404 Client Error: Not Found for url: https://datosabiertos.salud.gob.mx/gobmx/salud/datos_abiertos/etv/historicos/2022/datos_abiertos_dengue_131222.zip\n",
            "Descargado: datos_abiertos_dengue_291222.zip\n",
            "Descargado: datos_abiertos_dengue_031122.zip\n",
            "Descargado: datos_abiertos_dengue_101122.zip\n",
            "Descargado: datos_abiertos_dengue_171122.zip\n",
            "Descargado: datos_abiertos_dengue_241122.zip\n",
            "Descargado: datos_abiertos_dengue_061022.zip\n",
            "Descargado: datos_abiertos_dengue_131022.zip\n",
            "Descargado: datos_abiertos_dengue_201022.zip\n",
            "Descargado: datos_abiertos_dengue_271022.zip\n",
            "Descargado: datos_abiertos_dengue_010922.zip\n",
            "Descargado: datos_abiertos_dengue_080922.zip\n",
            "Descargado: datos_abiertos_dengue_150922.zip\n",
            "Descargado: datos_abiertos_dengue_220922.zip\n",
            "Descargado: datos_abiertos_dengue_290922.zip\n",
            "Descargado: datos_abiertos_dengue_040822.zip\n",
            "Descargado: datos_abiertos_dengue_110822.zip\n",
            "Descargado: datos_abiertos_dengue_180822.zip\n",
            "Descargado: datos_abiertos_dengue_250822.zip\n",
            "Descargado: datos_abiertos_dengue_070722.zip\n",
            "Descargado: datos_abiertos_dengue_140722.zip\n",
            "Descargado: datos_abiertos_dengue_210722.zip\n",
            "Descargado: datos_abiertos_dengue_280722.zip\n",
            "Descargado: datos_abiertos_dengue_020622.zip\n",
            "Descargado: datos_abiertos_dengue_090622.zip\n",
            "Descargado: datos_abiertos_dengue_160622.zip\n",
            "Descargado: datos_abiertos_dengue_230622.zip\n",
            "Descargado: datos_abiertos_dengue_300622.zip\n",
            "Descargado: datos_abiertos_dengue_050522.zip\n",
            "Descargado: datos_abiertos_dengue_120522.zip\n",
            "Descargado: datos_abiertos_dengue_190522.zip\n",
            "Descargado: datos_abiertos_dengue_260522.zip\n",
            "Descargado: datos_abiertos_dengue_070422.zip\n",
            "Descargado: datos_abiertos_dengue_140422.zip\n",
            "Descargado: datos_abiertos_dengue_210422.zip\n",
            "Descargado: datos_abiertos_dengue_280422.zip\n",
            "Descargado: datos_abiertos_dengue_030322.zip\n",
            "Descargado: datos_abiertos_dengue_100322.zip\n",
            "Descargado: datos_abiertos_dengue_170322.zip\n",
            "Descargado: datos_abiertos_dengue_240322.zip\n",
            "Descargado: datos_abiertos_dengue_310322.zip\n",
            "Descargado: datos_abiertos_dengue_030222.zip\n",
            "Descargado: datos_abiertos_dengue_100222.zip\n",
            "Descargado: datos_abiertos_dengue_170222.zip\n",
            "Error al descargar datos_abiertos_dengue_280222.zip: 404 Client Error: Not Found for url: https://datosabiertos.salud.gob.mx/gobmx/salud/datos_abiertos/etv/historicos/2022/datos_abiertos_dengue_280222.zip\n",
            "Descargado: datos_abiertos_dengue_060122.zip\n",
            "Descargado: datos_abiertos_dengue_130122.zip\n",
            "Descargado: datos_abiertos_dengue_200122.zip\n",
            "Descargado: datos_abiertos_dengue_270122.zip\n",
            "Descargado: datos_abiertos_dengue_040425.zip\n",
            "Descargado: datos_abiertos_dengue_100425.zip\n",
            "Descargado: datos_abiertos_dengue_160425.zip\n",
            "Descargado: datos_abiertos_dengue_240425.zip\n",
            "Descargado: datos_abiertos_dengue_300425.zip\n",
            "Descargado: datos_abiertos_dengue_060325.zip\n",
            "Descargado: datos_abiertos_dengue_130325.zip\n",
            "Descargado: datos_abiertos_dengue_210325.zip\n",
            "Descargado: datos_abiertos_dengue_270325.zip\n",
            "Descargado: datos_abiertos_dengue_060225.zip\n",
            "Descargado: datos_abiertos_dengue_130225.zip\n",
            "Descargado: datos_abiertos_dengue_200225.zip\n",
            "Error al descargar datos_abiertos_dengue_250225.zip: 404 Client Error: Not Found for url: https://datosabiertos.salud.gob.mx/gobmx/salud/datos_abiertos/etv/historicos/2025/datos_abiertos_dengue_250225.zip\n",
            "Descargado: datos_abiertos_dengue_080125.zip\n",
            "Descargado: datos_abiertos_dengue_160125.zip\n",
            "Descargado: datos_abiertos_dengue_230125.zip\n",
            "Descargado: datos_abiertos_dengue_300125.zip\n"
          ]
        }
      ]
    },
    {
      "cell_type": "markdown",
      "source": [
        "Descomprimir Zip"
      ],
      "metadata": {
        "id": "ftAcppu0boGU"
      }
    },
    {
      "cell_type": "code",
      "source": [
        "import zipfile\n",
        "\n",
        "zip_folder = 'zip'\n",
        "output_folder = 'csv'\n",
        "\n",
        "os.makedirs(output_folder, exist_ok=True)\n",
        "\n",
        "for filename in os.listdir(zip_folder):\n",
        "    if filename.lower().endswith('.zip'):\n",
        "        zip_path = os.path.join(zip_folder, filename)\n",
        "\n",
        "        try:\n",
        "            with zipfile.ZipFile(zip_path, 'r') as zip_ref:\n",
        "                zip_ref.extractall(output_folder)\n",
        "                print(f\"Descomprimido: {filename}\")\n",
        "        except zipfile.BadZipFile:\n",
        "            print(f\"Archivo ZIP dañado: {filename}\")"
      ],
      "metadata": {
        "colab": {
          "base_uri": "https://localhost:8080/"
        },
        "id": "yA7cpVatbrZM",
        "outputId": "a5f0fb14-8a6e-4906-f964-3d2b33cd4409"
      },
      "execution_count": null,
      "outputs": [
        {
          "output_type": "stream",
          "name": "stdout",
          "text": [
            "Descomprimido: datos_abiertos_dengue_270325.zip\n",
            "Descomprimido: datos_abiertos_dengue_210521.zip\n",
            "Descomprimido: datos_abiertos_dengue_180221.zip\n",
            "Descomprimido: datos_abiertos_dengue_270122.zip\n",
            "Descomprimido: datos_abiertos_dengue_041121.zip\n",
            "Descomprimido: datos_abiertos_dengue_300425.zip\n",
            "Descomprimido: datos_abiertos_dengue_100322.zip\n",
            "Descomprimido: datos_abiertos_dengue_121023.zip\n",
            "Descomprimido: datos_abiertos_dengue_291123.zip\n",
            "Descomprimido: datos_abiertos_dengue_171122.zip\n",
            "Descomprimido: datos_abiertos_dengue_020622.zip\n",
            "Descomprimido: datos_abiertos_dengue_080125.zip\n",
            "Descomprimido: datos_abiertos_dengue_290524.zip\n",
            "Descomprimido: datos_abiertos_dengue_140224.zip\n",
            "Descomprimido: datos_abiertos_dengue_100425.zip\n",
            "Descomprimido: datos_abiertos_dengue_060521.zip\n",
            "Descomprimido: datos_abiertos_dengue_311220.zip\n",
            "Descomprimido: datos_abiertos_dengue_100724.zip\n",
            "Descomprimido: datos_abiertos_dengue_080922.zip\n",
            "Descomprimido: datos_abiertos_dengue_070422.zip\n",
            "Descomprimido: datos_abiertos_dengue_160125.zip\n",
            "Descomprimido: datos_abiertos_dengue_010721.zip\n",
            "Descomprimido: datos_abiertos_dengue_060923.zip\n",
            "Descomprimido: datos_abiertos_dengue_290721.zip\n",
            "Descomprimido: datos_abiertos_dengue_130325.zip\n",
            "Descomprimido: datos_abiertos_dengue_210224.zip\n",
            "Descomprimido: datos_abiertos_dengue_030424.zip\n",
            "Descomprimido: datos_abiertos_dengue_230622.zip\n",
            "Descomprimido: datos_abiertos_dengue_071021.zip\n",
            "Descomprimido: datos_abiertos_dengue_140722.zip\n",
            "Descomprimido: datos_abiertos_dengue_210325.zip\n",
            "Descomprimido: datos_abiertos_dengue_061022.zip\n",
            "Descomprimido: datos_abiertos_dengue_290922.zip\n",
            "Descomprimido: datos_abiertos_dengue_231024.zip\n",
            "Descomprimido: datos_abiertos_dengue_300921.zip\n",
            "Descomprimido: datos_abiertos_dengue_160823.zip\n",
            "Descomprimido: datos_abiertos_dengue_150524.zip\n",
            "Descomprimido: datos_abiertos_dengue_180321.zip\n",
            "Descomprimido: datos_abiertos_dengue_151222.zip\n",
            "Descomprimido: datos_abiertos_dengue_190123.zip\n",
            "Descomprimido: datos_abiertos_dengue_220524.zip\n",
            "Descomprimido: datos_abiertos_dengue_031024.zip\n",
            "Descomprimido: datos_abiertos_dengue_090622.zip\n",
            "Descomprimido: datos_abiertos_dengue_201124.zip\n",
            "Descomprimido: datos_abiertos_dengue_210422.zip\n",
            "Descomprimido: datos_abiertos_dengue_160223.zip\n",
            "Descomprimido: datos_abiertos_dengue_120624.zip\n",
            "Descomprimido: datos_abiertos_dengue_150922.zip\n",
            "Descomprimido: datos_abiertos_dengue_271223.zip\n",
            "Descomprimido: datos_abiertos_dengue_051023.zip\n",
            "Descomprimido: datos_abiertos_dengue_091221.zip\n",
            "Descomprimido: datos_abiertos_dengue_260924.zip\n",
            "Descomprimido: datos_abiertos_dengue_250221.zip\n",
            "Descomprimido: datos_abiertos_dengue_070121.zip\n",
            "Descomprimido: datos_abiertos_dengue_161024.zip\n",
            "Descomprimido: datos_abiertos_dengue_120821.zip\n",
            "Descomprimido: datos_abiertos_dengue_201223.zip\n",
            "Descomprimido: datos_abiertos_dengue_200324.zip\n",
            "Descomprimido: datos_abiertos_dengue_170424.zip\n",
            "Descomprimido: datos_abiertos_dengue_140121.zip\n",
            "Descomprimido: datos_abiertos_dengue_260123.zip\n",
            "Descomprimido: datos_abiertos_dengue_310322.zip\n",
            "Descomprimido: datos_abiertos_dengue_280722.zip\n",
            "Descomprimido: datos_abiertos_dengue_191224.zip\n",
            "Descomprimido: datos_abiertos_dengue_250321.zip\n",
            "Descomprimido: datos_abiertos_dengue_011123.zip\n",
            "Descomprimido: datos_abiertos_dengue_170322.zip\n",
            "Descomprimido: datos_abiertos_dengue_081222.zip\n",
            "Descomprimido: datos_abiertos_dengue_091024.zip\n",
            "Descomprimido: datos_abiertos_dengue_190723.zip\n",
            "Descomprimido: datos_abiertos_dengue_040425.zip\n",
            "Descomprimido: datos_abiertos_dengue_221123.zip\n",
            "Descomprimido: datos_abiertos_dengue_201022.zip\n",
            "Descomprimido: datos_abiertos_dengue_200122.zip\n",
            "Descomprimido: datos_abiertos_dengue_080524.zip\n",
            "Descomprimido: datos_abiertos_dengue_030621.zip\n",
            "Descomprimido: datos_abiertos_dengue_200423.zip\n",
            "Descomprimido: datos_abiertos_dengue_050123.zip\n",
            "Descomprimido: datos_abiertos_dengue_120123.zip\n",
            "Descomprimido: datos_abiertos_dengue_280422.zip\n",
            "Descomprimido: datos_abiertos_dengue_230125.zip\n",
            "Descomprimido: datos_abiertos_dengue_100222.zip\n",
            "Descomprimido: datos_abiertos_dengue_090921.zip\n",
            "Descomprimido: datos_abiertos_dengue_240322.zip\n",
            "Descomprimido: datos_abiertos_dengue_020921.zip\n",
            "Descomprimido: datos_abiertos_dengue_110321.zip\n",
            "Descomprimido: datos_abiertos_dengue_060325.zip\n",
            "Descomprimido: datos_abiertos_dengue_020323.zip\n",
            "Descomprimido: datos_abiertos_dengue_220721.zip\n",
            "Descomprimido: datos_abiertos_dengue_070824.zip\n",
            "Descomprimido: datos_abiertos_dengue_310724.zip\n",
            "Descomprimido: datos_abiertos_dengue_061223.zip\n",
            "Descomprimido: datos_abiertos_dengue_241122.zip\n",
            "Descomprimido: datos_abiertos_dengue_160921.zip\n",
            "Descomprimido: datos_abiertos_dengue_040924.zip\n",
            "Descomprimido: datos_abiertos_dengue_160323.zip\n",
            "Descomprimido: datos_abiertos_dengue_260821.zip\n",
            "Descomprimido: datos_abiertos_dengue_030724.zip\n",
            "Descomprimido: datos_abiertos_dengue_070224.zip\n",
            "Descomprimido: datos_abiertos_dengue_041224.zip\n",
            "Descomprimido: datos_abiertos_dengue_060324.zip\n",
            "Descomprimido: datos_abiertos_dengue_130324.zip\n",
            "Descomprimido: datos_abiertos_dengue_141021.zip\n",
            "Descomprimido: datos_abiertos_dengue_220623.zip\n",
            "Descomprimido: datos_abiertos_dengue_100424.zip\n",
            "Descomprimido: datos_abiertos_dengue_250523.zip\n",
            "Descomprimido: datos_abiertos_dengue_090223.zip\n",
            "Descomprimido: datos_abiertos_dengue_011222.zip\n",
            "Descomprimido: datos_abiertos_dengue_300622.zip\n",
            "Descomprimido: datos_abiertos_dengue_280224.zip\n",
            "Descomprimido: datos_abiertos_dengue_031122.zip\n",
            "Descomprimido: datos_abiertos_dengue_040221.zip\n",
            "Descomprimido: datos_abiertos_dengue_131022.zip\n",
            "Descomprimido: datos_abiertos_dengue_110221.zip\n",
            "Descomprimido: datos_abiertos_dengue_130923.zip\n",
            "Descomprimido: datos_abiertos_dengue_030322.zip\n",
            "Descomprimido: datos_abiertos_dengue_020823.zip\n",
            "Descomprimido: datos_abiertos_dengue_030222.zip\n",
            "Descomprimido: datos_abiertos_dengue_170621.zip\n",
            "Descomprimido: datos_abiertos_dengue_101220.zip\n",
            "Descomprimido: datos_abiertos_dengue_181121.zip\n",
            "Descomprimido: datos_abiertos_dengue_131223.zip\n",
            "Descomprimido: datos_abiertos_dengue_050723.zip\n",
            "Descomprimido: datos_abiertos_dengue_230823.zip\n",
            "Descomprimido: datos_abiertos_dengue_240621.zip\n",
            "Descomprimido: datos_abiertos_dengue_060122.zip\n",
            "Descomprimido: datos_abiertos_dengue_300823.zip\n",
            "Descomprimido: datos_abiertos_dengue_210722.zip\n",
            "Descomprimido: datos_abiertos_dengue_150721.zip\n",
            "Descomprimido: datos_abiertos_dengue_101122.zip\n",
            "Descomprimido: datos_abiertos_dengue_120522.zip\n",
            "Descomprimido: datos_abiertos_dengue_230323.zip\n",
            "Descomprimido: datos_abiertos_dengue_200225.zip\n",
            "Descomprimido: datos_abiertos_dengue_160622.zip\n",
            "Descomprimido: datos_abiertos_dengue_220421.zip\n",
            "Descomprimido: datos_abiertos_dengue_100621.zip\n",
            "Descomprimido: datos_abiertos_dengue_110924.zip\n",
            "Descomprimido: datos_abiertos_dengue_211021.zip\n",
            "Descomprimido: datos_abiertos_dengue_040822.zip\n",
            "Descomprimido: datos_abiertos_dengue_220922.zip\n",
            "Descomprimido: datos_abiertos_dengue_210121.zip\n",
            "Descomprimido: datos_abiertos_dengue_010922.zip\n",
            "Descomprimido: datos_abiertos_dengue_150824.zip\n",
            "Descomprimido: datos_abiertos_dengue_220824.zip\n",
            "Descomprimido: datos_abiertos_dengue_080623.zip\n",
            "Descomprimido: datos_abiertos_dengue_060423.zip\n",
            "Descomprimido: datos_abiertos_dengue_281021.zip\n",
            "Descomprimido: datos_abiertos_dengue_110822.zip\n",
            "Descomprimido: datos_abiertos_dengue_261023.zip\n",
            "Descomprimido: datos_abiertos_dengue_021221.zip\n",
            "Descomprimido: datos_abiertos_dengue_040321.zip\n",
            "Descomprimido: datos_abiertos_dengue_151124.zip\n",
            "Descomprimido: datos_abiertos_dengue_031220.zip\n",
            "Descomprimido: datos_abiertos_dengue_271022.zip\n",
            "Descomprimido: datos_abiertos_dengue_160425.zip\n",
            "Descomprimido: datos_abiertos_dengue_050522.zip\n",
            "Descomprimido: datos_abiertos_dengue_260624.zip\n",
            "Descomprimido: datos_abiertos_dengue_160421.zip\n",
            "Descomprimido: datos_abiertos_dengue_130521.zip\n",
            "Descomprimido: datos_abiertos_dengue_171220.zip\n",
            "Descomprimido: datos_abiertos_dengue_110523.zip\n",
            "Descomprimido: datos_abiertos_dengue_151123.zip\n",
            "Descomprimido: datos_abiertos_dengue_240425.zip\n",
            "Descomprimido: datos_abiertos_dengue_241220.zip\n",
            "Descomprimido: datos_abiertos_dengue_050624.zip\n",
            "Descomprimido: datos_abiertos_dengue_111121.zip\n",
            "Descomprimido: datos_abiertos_dengue_111224.zip\n",
            "Descomprimido: datos_abiertos_dengue_081123.zip\n",
            "Descomprimido: datos_abiertos_dengue_231221.zip\n",
            "Descomprimido: datos_abiertos_dengue_271124.zip\n",
            "Descomprimido: datos_abiertos_dengue_170222.zip\n",
            "Descomprimido: datos_abiertos_dengue_080421.zip\n",
            "Descomprimido: datos_abiertos_dengue_280121.zip\n",
            "Descomprimido: datos_abiertos_dengue_010524.zip\n",
            "Descomprimido: datos_abiertos_dengue_130723.zip\n",
            "Descomprimido: datos_abiertos_dengue_290421.zip\n",
            "Descomprimido: datos_abiertos_dengue_291222.zip\n",
            "Descomprimido: datos_abiertos_dengue_250822.zip\n",
            "Descomprimido: datos_abiertos_dengue_140422.zip\n",
            "Descomprimido: datos_abiertos_dengue_301221.zip\n",
            "Descomprimido: datos_abiertos_dengue_270521.zip\n",
            "Descomprimido: datos_abiertos_dengue_020223.zip\n",
            "Descomprimido: datos_abiertos_dengue_070722.zip\n",
            "Descomprimido: datos_abiertos_dengue_180724.zip\n",
            "Descomprimido: datos_abiertos_dengue_010421.zip\n",
            "Descomprimido: datos_abiertos_dengue_040523.zip\n",
            "Descomprimido: datos_abiertos_dengue_260723.zip\n",
            "Descomprimido: datos_abiertos_dengue_130423.zip\n",
            "Descomprimido: datos_abiertos_dengue_190522.zip\n",
            "Descomprimido: datos_abiertos_dengue_090823.zip\n",
            "Descomprimido: datos_abiertos_dengue_130225.zip\n",
            "Descomprimido: datos_abiertos_dengue_180822.zip\n",
            "Descomprimido: datos_abiertos_dengue_280824.zip\n",
            "Descomprimido: datos_abiertos_dengue_060225.zip\n",
            "Descomprimido: datos_abiertos_dengue_260522.zip\n",
            "Descomprimido: datos_abiertos_dengue_230223.zip\n",
            "Descomprimido: datos_abiertos_dengue_071124.zip\n",
            "Descomprimido: datos_abiertos_dengue_150623.zip\n",
            "Descomprimido: datos_abiertos_dengue_301024.zip\n",
            "Descomprimido: datos_abiertos_dengue_200923.zip\n",
            "Descomprimido: datos_abiertos_dengue_090323.zip\n",
            "Descomprimido: datos_abiertos_dengue_240424.zip\n",
            "Descomprimido: datos_abiertos_dengue_270324.zip\n",
            "Descomprimido: datos_abiertos_dengue_230921.zip\n",
            "Descomprimido: datos_abiertos_dengue_190821.zip\n",
            "Descomprimido: datos_abiertos_dengue_270923.zip\n",
            "Descomprimido: datos_abiertos_dengue_191023.zip\n",
            "Descomprimido: datos_abiertos_dengue_240724.zip\n",
            "Descomprimido: datos_abiertos_dengue_251121.zip\n",
            "Descomprimido: datos_abiertos_dengue_300125.zip\n",
            "Descomprimido: datos_abiertos_dengue_161221.zip\n",
            "Descomprimido: datos_abiertos_dengue_190624.zip\n",
            "Descomprimido: datos_abiertos_dengue_270423.zip\n",
            "Descomprimido: datos_abiertos_dengue_180523.zip\n",
            "Descomprimido: datos_abiertos_dengue_130122.zip\n"
          ]
        }
      ]
    },
    {
      "cell_type": "markdown",
      "source": [
        "Hay datos que vienen en formatos diferentes unos vienen en csv y xlsx por lo que convertiremos esos excel a csv"
      ],
      "metadata": {
        "id": "phBuum9Kb6yY"
      }
    },
    {
      "cell_type": "code",
      "source": [
        "import pandas as pd\n",
        "\n",
        "input_folder = 'csv'\n",
        "output_folder = 'csv'\n",
        "\n",
        "for filename in os.listdir(input_folder):\n",
        "    if filename.lower().endswith('.xlsx'):\n",
        "        filepath = os.path.join(input_folder, filename)\n",
        "        csv_filename = filename.replace('.xlsx', '.csv')\n",
        "        csv_path = os.path.join(output_folder, csv_filename)\n",
        "\n",
        "        try:\n",
        "            df = pd.read_excel(filepath)\n",
        "            df.to_csv(csv_path, index=False)\n",
        "            os.remove(filepath)\n",
        "            print(f\"Convertido: {filename} → {csv_filename}\")\n",
        "        except Exception as e:\n",
        "            print(f\"Error al convertir {filename}: {e}\")\n"
      ],
      "metadata": {
        "colab": {
          "base_uri": "https://localhost:8080/"
        },
        "id": "oAeemdH5cDzW",
        "outputId": "6f17893b-0657-4052-cea7-4e3bb5e455a0"
      },
      "execution_count": null,
      "outputs": [
        {
          "output_type": "stream",
          "name": "stdout",
          "text": [
            "Convertido: Datos abiertos dengue.xlsx → Datos abiertos dengue.csv\n"
          ]
        }
      ]
    },
    {
      "cell_type": "markdown",
      "source": [
        "# ETL con Pyspark"
      ],
      "metadata": {
        "id": "7fvKr3qJc_ua"
      }
    },
    {
      "cell_type": "code",
      "source": [
        "from pyspark.sql import SparkSession\n",
        "from pyspark.sql.types import StringType, DataType, IntegerType, StructField, StructType\n",
        "from pyspark.sql.functions import to_date, col, when, count, desc, row_number\n",
        "from pyspark.sql.window import Window"
      ],
      "metadata": {
        "id": "093MS_u0eD22"
      },
      "execution_count": null,
      "outputs": []
    },
    {
      "cell_type": "code",
      "source": [
        "spark = SparkSession.builder \\\n",
        "    .appName(\"Vectores\") \\\n",
        "    .getOrCreate()"
      ],
      "metadata": {
        "id": "OyAY9uHWcxy9"
      },
      "execution_count": null,
      "outputs": []
    },
    {
      "cell_type": "code",
      "source": [
        "esquema = StructType([\n",
        "    StructField(\"FECHA_ACTUALIZACION\", StringType(), True),\n",
        "    StructField(\"ID_REGISTRO\", IntegerType(), True),\n",
        "    StructField(\"SEXO\", IntegerType(), True),\n",
        "    StructField(\"EDAD_ANOS\", IntegerType(), True),\n",
        "    StructField(\"ENTIDAD_RES\", IntegerType(), True),\n",
        "    StructField(\"MUNICIPIO_RES\", IntegerType(), True),\n",
        "    StructField(\"HABLA_LENGUA_INDIG\", IntegerType(), True),\n",
        "    StructField(\"INDIGENA\", IntegerType(), True),\n",
        "    StructField(\"ENTIDAD_UM_NOTIF\", IntegerType(), True),\n",
        "    StructField(\"MUNICIPIO_UM_NOTIF\", IntegerType(), True),\n",
        "    StructField(\"INSTITUCION_UM_NOTIF\", IntegerType(), True),\n",
        "    StructField(\"FECHA_SIGN_SINTOMAS\", StringType(), True),\n",
        "    StructField(\"TIPO_PACIENTE\", IntegerType(), True),\n",
        "    StructField(\"HEMORRAGICOS\", IntegerType(), True),\n",
        "    StructField(\"DIABETES\", IntegerType(), True),\n",
        "    StructField(\"HIPERTENSION\", IntegerType(), True),\n",
        "    StructField(\"ENFERMEDAD_ULC_PEPTICA\", IntegerType(), True),\n",
        "    StructField(\"ENFERMEDAD_RENAL\", IntegerType(), True),\n",
        "    StructField(\"INMUNOSUPR\", IntegerType(), True),\n",
        "    StructField(\"CIRROSIS_HEPATICA\", IntegerType(), True),\n",
        "    StructField(\"EMBARAZO\", IntegerType(), True),\n",
        "    StructField(\"DEFUNCION\", IntegerType(), True),\n",
        "    StructField(\"DICTAMEN\", IntegerType(), True),\n",
        "    StructField(\"TOMA_MUESTRA\", IntegerType(), True),\n",
        "    StructField(\"RESULTADO_PCR\", IntegerType(), True),\n",
        "    StructField(\"ESTATUS_CASO\", IntegerType(), True),\n",
        "    StructField(\"ENTIDAD_ASIG\", IntegerType(), True),\n",
        "    StructField(\"MUNICIPIO_ASIG\", IntegerType(), True),\n",
        "])"
      ],
      "metadata": {
        "id": "Ui7G0OEheAZM"
      },
      "execution_count": null,
      "outputs": []
    },
    {
      "cell_type": "code",
      "source": [
        "input_path = \"csv/*.csv\"\n",
        "df = spark.read.option(\"header\", True).schema(esquema).csv(input_path)"
      ],
      "metadata": {
        "id": "AALlx4OIdJf-"
      },
      "execution_count": null,
      "outputs": []
    },
    {
      "cell_type": "code",
      "source": [
        "df.show()"
      ],
      "metadata": {
        "colab": {
          "base_uri": "https://localhost:8080/"
        },
        "id": "5JNzAna39vZA",
        "outputId": "c3f3cc9a-14c8-4301-865d-4c3902c896b0"
      },
      "execution_count": null,
      "outputs": [
        {
          "output_type": "stream",
          "name": "stdout",
          "text": [
            "+-------------------+-----------+----+---------+-----------+-------------+------------------+--------+----------------+------------------+--------------------+-------------------+-------------+------------+--------+------------+----------------------+----------------+----------+-----------------+--------+---------+--------+------------+-------------+------------+------------+--------------+\n",
            "|FECHA_ACTUALIZACION|ID_REGISTRO|SEXO|EDAD_ANOS|ENTIDAD_RES|MUNICIPIO_RES|HABLA_LENGUA_INDIG|INDIGENA|ENTIDAD_UM_NOTIF|MUNICIPIO_UM_NOTIF|INSTITUCION_UM_NOTIF|FECHA_SIGN_SINTOMAS|TIPO_PACIENTE|HEMORRAGICOS|DIABETES|HIPERTENSION|ENFERMEDAD_ULC_PEPTICA|ENFERMEDAD_RENAL|INMUNOSUPR|CIRROSIS_HEPATICA|EMBARAZO|DEFUNCION|DICTAMEN|TOMA_MUESTRA|RESULTADO_PCR|ESTATUS_CASO|ENTIDAD_ASIG|MUNICIPIO_ASIG|\n",
            "+-------------------+-----------+----+---------+-----------+-------------+------------------+--------+----------------+------------------+--------------------+-------------------+-------------+------------+--------+------------+----------------------+----------------+----------+-----------------+--------+---------+--------+------------+-------------+------------+------------+--------------+\n",
            "|         03/12/2024|    1311108|   1|       35|         12|            1|                 2|       2|              12|                 1|                   4|         15/01/2024|            1|           2|       2|           2|                     2|               2|         2|                2|       2|        2|       5|           1|            3|           2|          12|             1|\n",
            "|         03/12/2024|    1346161|   2|        1|          4|            9|                 2|       2|               4|                 9|                  20|         12/03/2024|            1|           2|       2|           2|                     2|               2|         2|                2|       2|        2|       5|           2|            5|           1|           4|             9|\n",
            "|         03/12/2024|    1346164|   1|       70|         30|           39|                 2|       2|              30|                39|                   8|         11/03/2024|            1|           2|       2|           2|                     2|               2|         2|                2|       2|        2|       5|           2|            5|           1|          30|            39|\n",
            "|         03/12/2024|    1346174|   2|       57|         27|            4|                 2|       2|              27|                 4|                  20|         16/03/2024|            2|           2|       2|           2|                     2|               2|         2|                2|       2|        2|       5|           1|            5|           2|          27|             4|\n",
            "|         03/12/2024|    1346177|   2|       58|         27|            4|                 2|       2|              27|                 4|                  20|         16/03/2024|            1|           2|       2|           2|                     2|               2|         2|                2|       2|        2|       5|           2|            5|           1|          27|             4|\n",
            "|         03/12/2024|    1346180|   1|       32|         27|            4|                 2|       2|              27|                 4|                  20|         16/03/2024|            1|           2|       2|           2|                     2|               2|         2|                2|       2|        2|       5|           2|            5|           1|          27|             4|\n",
            "|         03/12/2024|    1346187|   1|       20|         14|          101|                 2|       2|              14|                39|                   4|         18/03/2024|            2|           2|       2|           2|                     2|               2|         2|                2|       1|        2|       5|           1|            5|           3|          14|           101|\n",
            "|         03/12/2024|    1346206|   1|       16|         30|          131|                 2|       2|              30|               131|                  20|         15/03/2024|            1|           2|       2|           2|                     2|               2|         2|                2|       2|        2|       5|           1|            5|           3|          30|           131|\n",
            "|         03/12/2024|    1346238|   1|       31|         30|          105|                 2|       2|              30|               193|                   4|         16/03/2024|            1|           2|       2|           2|                     2|               2|         2|                2|       2|        2|       5|           2|            5|           1|          30|           105|\n",
            "|         03/12/2024|    1346261|   1|       50|         20|           67|                 2|       2|              20|                67|                   6|         27/02/2024|            1|           2|       1|           2|                     2|               2|         2|                2|       2|        2|       5|           2|            5|           1|          20|            67|\n",
            "|         03/12/2024|    1346264|   2|       41|         23|            4|                 2|       2|              23|                 4|                   4|         18/03/2024|            1|           2|       2|           2|                     2|               2|         2|                2|       2|        2|       5|           2|            5|           1|          23|             4|\n",
            "|         03/12/2024|    1346277|   1|       48|         27|            4|                 2|       2|              27|                 4|                   3|         18/03/2024|            1|           2|       2|           2|                     2|               2|         2|                2|       2|        2|       5|           1|            5|           3|          27|             4|\n",
            "|         03/12/2024|    1346286|   1|       26|          6|            9|                 2|       2|               6|                 9|                  20|         15/03/2024|            1|           2|       2|           2|                     2|               2|         2|                2|       2|        2|       5|           1|            5|           2|           6|             9|\n",
            "|         03/12/2024|    1346296|   2|       45|          6|            2|                 2|       2|               6|                 2|                   4|         18/03/2024|            1|           2|       2|           2|                     2|               2|         2|                2|       2|        2|       5|           2|            5|           1|           6|             2|\n",
            "|         03/12/2024|    1346299|   1|        6|         16|           57|                 2|       2|              16|                57|                  20|         15/03/2024|            1|           2|       2|           2|                     2|               2|         2|                2|       2|        2|       5|           1|            3|           2|          16|            57|\n",
            "|         03/12/2024|    1346309|   2|        4|         12|            1|                 2|       2|              12|                 1|                   4|         14/03/2024|            1|           2|       2|           2|                     2|               2|         2|                2|       2|        2|       5|           2|            5|           1|          12|             1|\n",
            "|         03/12/2024|    1346315|   1|        9|          6|            1|                 2|       2|               6|                 1|                   4|         17/03/2024|            1|           2|       2|           2|                     2|               2|         2|                2|       2|        2|       5|           2|            5|           1|           6|             1|\n",
            "|         03/12/2024|    1346331|   1|       26|         27|           13|                 2|       2|              27|                13|                  20|         12/03/2024|            1|           2|       2|           2|                     2|               2|         2|                2|       2|        2|       5|           2|            5|           1|          27|            13|\n",
            "|         03/12/2024|    1346351|   2|       61|         30|          123|                 2|       2|              30|               123|                  20|         18/03/2024|            1|           2|       2|           1|                     2|               2|         2|                2|       2|        2|       5|           1|            5|           2|          30|           123|\n",
            "|         03/12/2024|    1346354|   1|       12|         12|           56|                 2|       2|              12|                56|                  20|         17/03/2024|            1|           2|       2|           2|                     2|               2|         2|                2|       2|        2|       5|           2|            5|           1|          12|            56|\n",
            "+-------------------+-----------+----+---------+-----------+-------------+------------------+--------+----------------+------------------+--------------------+-------------------+-------------+------------+--------+------------+----------------------+----------------+----------+-----------------+--------+---------+--------+------------+-------------+------------+------------+--------------+\n",
            "only showing top 20 rows\n",
            "\n"
          ]
        }
      ]
    },
    {
      "cell_type": "code",
      "source": [
        "df = df.withColumn(\n",
        "    \"FECHA_SIGN_SINTOMAS_LIMPIA\",\n",
        "    when(col(\"FECHA_SIGN_SINTOMAS\").rlike(r\"^\\d{4}-\\d{2}-\\d{2}$\"), to_date(col(\"FECHA_SIGN_SINTOMAS\"), \"yyyy-MM-dd\"))\n",
        "    .when(col(\"FECHA_SIGN_SINTOMAS\").rlike(r\"^\\d{4}/\\d{2}/\\d{2}$\"), to_date(col(\"FECHA_SIGN_SINTOMAS\"), \"yyyy/MM/dd\"))\n",
        "    .when(col(\"FECHA_SIGN_SINTOMAS\").rlike(r\"^\\d{2}/\\d{2}/\\d{4}$\"), to_date(col(\"FECHA_SIGN_SINTOMAS\"), \"MM/MMdd/yyyy\"))\n",
        "    .when(col(\"FECHA_SIGN_SINTOMAS\").rlike(r\"^\\d{2}-\\d{2}-\\d{4}$\"), to_date(col(\"FECHA_SIGN_SINTOMAS\"), \"MM-dd-yyyy\"))\n",
        "    .otherwise(None)\n",
        ")\n",
        "df = df.withColumn(\n",
        "    \"FECHA_ACTUALIZACION_LIMPIA\",\n",
        "    when(col(\"FECHA_ACTUALIZACION\").rlike(r\"^\\d{4}-\\d{2}-\\d{2}$\"), to_date(col(\"FECHA_ACTUALIZACION\"), \"yyyy-MM-dd\"))\n",
        "    .when(col(\"FECHA_ACTUALIZACION\").rlike(r\"^\\d{4}/\\d{2}/\\d{2}$\"), to_date(col(\"FECHA_ACTUALIZACION\"), \"yyyy/MM/dd\"))\n",
        "    .when(col(\"FECHA_ACTUALIZACION\").rlike(r\"^\\d{2}/\\d{2}/\\d{4}$\"), to_date(col(\"FECHA_ACTUALIZACION\"), \"MM/MMdd/yyyy\"))\n",
        "    .when(col(\"FECHA_ACTUALIZACION\").rlike(r\"^\\d{2}-\\d{2}-\\d{4}$\"), to_date(col(\"FECHA_ACTUALIZACION\"), \"MM-dd-yyyy\"))\n",
        "    .otherwise(None)\n",
        ")"
      ],
      "metadata": {
        "id": "_sF8K7f2f8fv"
      },
      "execution_count": null,
      "outputs": []
    },
    {
      "cell_type": "code",
      "source": [
        "df.count()"
      ],
      "metadata": {
        "colab": {
          "base_uri": "https://localhost:8080/"
        },
        "id": "55rxbrKximB4",
        "outputId": "5bef2743-afdc-45ef-d86c-c907e89558ef"
      },
      "execution_count": null,
      "outputs": [
        {
          "output_type": "execute_result",
          "data": {
            "text/plain": [
              "3466912"
            ]
          },
          "metadata": {},
          "execution_count": 14
        }
      ]
    },
    {
      "cell_type": "code",
      "source": [
        "df = df.filter(col(\"FECHA_SIGN_SINTOMAS_LIMPIA\").isNotNull())\n",
        "df = df.filter(col(\"FECHA_ACTUALIZACION_LIMPIA\").isNotNull())\n",
        "\n",
        "df = df.drop(\"FECHA_SIGN_SINTOMAS\").withColumnRenamed(\"FECHA_SIGN_SINTOMAS_LIMPIA\", \"FECHA_SIGN_SINTOMAS\")\n",
        "df = df.drop(\"FECHA_ACTUALIZACION\").withColumnRenamed(\"FECHA_ACTUALIZACION_LIMPIA\", \"FECHA_ACTUALIZACION\")"
      ],
      "metadata": {
        "id": "C8l5KmdFieEu"
      },
      "execution_count": null,
      "outputs": []
    },
    {
      "cell_type": "code",
      "source": [
        "df.count()"
      ],
      "metadata": {
        "colab": {
          "base_uri": "https://localhost:8080/"
        },
        "id": "TC4KhRsFAGzX",
        "outputId": "0a094e97-8dc6-4a60-c59f-bd9c64550c84"
      },
      "execution_count": null,
      "outputs": [
        {
          "output_type": "execute_result",
          "data": {
            "text/plain": [
              "2176964"
            ]
          },
          "metadata": {},
          "execution_count": 16
        }
      ]
    },
    {
      "cell_type": "code",
      "source": [
        "w = Window.partitionBy(\"ID_REGISTRO\").orderBy(desc(\"FECHA_ACTUALIZACION\"))\n",
        "df = df.withColumn(\"row\", row_number().over(w)).filter(col(\"row\") == 1).drop(\"row\", \"FECHA_ACTUALIZACION\")"
      ],
      "metadata": {
        "id": "JTAIToyLxfBC"
      },
      "execution_count": null,
      "outputs": []
    },
    {
      "cell_type": "code",
      "source": [
        "df = df.dropDuplicates()"
      ],
      "metadata": {
        "id": "kQQXGF1RszFP"
      },
      "execution_count": null,
      "outputs": []
    },
    {
      "cell_type": "code",
      "source": [
        "# duplicados = df.groupBy(\"ID_REGISTRO\") \\\n",
        "#                .count() \\\n",
        "#                .filter(\"count > 1\") \\\n",
        "#                .count()\n",
        "\n",
        "# print(f\"Total de valores duplicados: {duplicados}\")\n"
      ],
      "metadata": {
        "id": "B4ymhDsWj3X6"
      },
      "execution_count": null,
      "outputs": []
    },
    {
      "cell_type": "code",
      "source": [
        "df.count()"
      ],
      "metadata": {
        "colab": {
          "base_uri": "https://localhost:8080/"
        },
        "id": "1--cnlfmiL7N",
        "outputId": "dbe233b1-9a5e-4964-ea50-8ba33d6c1355"
      },
      "execution_count": null,
      "outputs": [
        {
          "output_type": "execute_result",
          "data": {
            "text/plain": [
              "621786"
            ]
          },
          "metadata": {},
          "execution_count": 20
        }
      ]
    },
    {
      "cell_type": "code",
      "source": [
        "df.show()"
      ],
      "metadata": {
        "colab": {
          "base_uri": "https://localhost:8080/"
        },
        "id": "LflGMOOPtNp7",
        "outputId": "2ab2f956-c88b-4c5f-dd3e-0ac4658dd667"
      },
      "execution_count": null,
      "outputs": [
        {
          "output_type": "stream",
          "name": "stdout",
          "text": [
            "+-----------+----+---------+-----------+-------------+------------------+--------+----------------+------------------+--------------------+-------------+------------+--------+------------+----------------------+----------------+----------+-----------------+--------+---------+--------+------------+-------------+------------+------------+--------------+-------------------+\n",
            "|ID_REGISTRO|SEXO|EDAD_ANOS|ENTIDAD_RES|MUNICIPIO_RES|HABLA_LENGUA_INDIG|INDIGENA|ENTIDAD_UM_NOTIF|MUNICIPIO_UM_NOTIF|INSTITUCION_UM_NOTIF|TIPO_PACIENTE|HEMORRAGICOS|DIABETES|HIPERTENSION|ENFERMEDAD_ULC_PEPTICA|ENFERMEDAD_RENAL|INMUNOSUPR|CIRROSIS_HEPATICA|EMBARAZO|DEFUNCION|DICTAMEN|TOMA_MUESTRA|RESULTADO_PCR|ESTATUS_CASO|ENTIDAD_ASIG|MUNICIPIO_ASIG|FECHA_SIGN_SINTOMAS|\n",
            "+-----------+----+---------+-----------+-------------+------------------+--------+----------------+------------------+--------------------+-------------+------------+--------+------------+----------------------+----------------+----------+-----------------+--------+---------+--------+------------+-------------+------------+------------+--------------+-------------------+\n",
            "|     404569|   2|       63|         28|           33|                 2|       1|              28|                33|                   6|            2|           2|       2|           2|                     2|               2|         2|                2|       2|        2|       5|           1|            5|           2|          28|            33|         2020-10-28|\n",
            "|     471796|   1|       38|         26|           18|                 2|       2|              26|                18|                  12|            1|           2|       2|           2|                     2|               2|         2|                2|       2|        2|       5|           1|            5|           1|          26|            18|         2022-09-12|\n",
            "|     571794|   1|       64|         14|           39|                 2|       2|              14|                39|                   4|            2|           2|       2|           2|                     2|               2|         2|                2|       2|        2|       5|           1|            5|           1|          14|            39|         2024-09-26|\n",
            "|     759431|   2|       22|         20|          109|                 2|       2|              21|               156|                   4|            2|           2|       2|           2|                     2|               2|         2|                2|       2|        1|       1|           1|            5|           2|          20|           109|         2020-01-01|\n",
            "|     759664|   2|       52|         31|           50|                 2|       2|              31|                50|                   4|            1|           2|       2|           2|                     2|               2|         2|                2|       2|        2|       5|           2|            5|           1|          31|            50|         2020-01-01|\n",
            "|     759665|   1|       31|         31|           50|                 2|       2|              31|                50|                   4|            1|           2|       2|           2|                     2|               2|         2|                2|       2|        2|       5|           2|            5|           1|          31|            50|         2020-01-01|\n",
            "|     759702|   2|       36|         27|            4|                 2|       2|              27|                 4|                   4|            1|           2|       2|           2|                     2|               2|         2|                2|       2|        2|       5|           1|            5|           3|          27|             4|         2020-01-01|\n",
            "|     759704|   2|       32|         23|            4|                 2|       2|              23|                 4|                   4|            1|           2|       2|           2|                     2|               2|         2|                2|       2|        2|       5|           2|            5|           1|          23|             4|         2020-01-01|\n",
            "|     759740|   2|       28|         14|           39|                 2|       2|              14|                39|                   4|            1|           2|       2|           2|                     2|               2|         2|                2|       2|        2|       5|           1|            5|           3|          14|            39|         2020-01-02|\n",
            "|     759758|   1|        6|         12|            1|                 2|       2|              12|                 1|                   4|            2|           2|       2|           2|                     2|               2|         2|                2|       2|        2|       5|           1|            5|           3|          12|             1|         2020-01-01|\n",
            "|     759776|   2|       19|         27|            5|                 2|       2|              27|                 5|                   4|            1|           2|       2|           2|                     2|               2|         2|                2|       2|        2|       5|           2|            5|           1|          27|             5|         2020-01-01|\n",
            "|     759793|   2|       11|         31|           41|                 2|       2|              31|                41|                   4|            1|           2|       2|           2|                     2|               2|         2|                2|       2|        2|       5|           2|            5|           1|          31|            41|         2020-01-01|\n",
            "|     759805|   1|       34|         27|            4|                 2|       2|              27|                 4|                   4|            1|           2|       2|           2|                     2|               2|         2|                2|       2|        2|       5|           2|            5|           1|          27|             4|         2020-01-01|\n",
            "|     759809|   2|       40|         30|          175|                 2|       2|              30|               131|                   4|            1|           2|       1|           1|                     2|               2|         2|                2|       2|        2|       5|           1|            5|           3|          30|           175|         2020-01-01|\n",
            "|     759817|   2|       55|         12|            1|                 2|       2|              12|                 1|                   6|            2|           2|       2|           2|                     2|               2|         2|                2|       2|        2|       5|           2|            5|           1|          12|             1|         2020-01-01|\n",
            "|     759821|   1|       11|         30|          193|                 2|       2|              30|               193|                   4|            1|           2|       2|           2|                     2|               2|         2|                2|       2|        2|       5|           1|            5|           3|          30|           193|         2020-01-01|\n",
            "|     759826|   2|       12|         31|           96|                 2|       2|              31|                96|                  12|            1|           2|       2|           2|                     2|               2|         2|                2|       2|        2|       5|           2|            5|           1|          31|            96|         2020-01-01|\n",
            "|     759832|   2|       50|         27|            4|                 2|       2|              27|                 4|                   4|            1|           2|       2|           2|                     2|               2|         2|                2|       2|        2|       5|           2|            5|           1|          27|             4|         2020-01-01|\n",
            "|     759838|   2|        4|         14|          120|                 2|       2|              14|                39|                   4|            1|           2|       2|           2|                     2|               2|         2|                2|       2|        2|       5|           1|            5|           3|          14|           120|         2020-01-01|\n",
            "|     759880|   1|       24|         13|           28|                 2|       2|              28|               999|                   9|            1|           2|       2|           2|                     2|               2|         2|                2|       2|        2|       5|           2|            5|           1|          13|            28|         2020-01-01|\n",
            "+-----------+----+---------+-----------+-------------+------------------+--------+----------------+------------------+--------------------+-------------+------------+--------+------------+----------------------+----------------+----------+-----------------+--------+---------+--------+------------+-------------+------------+------------+--------------+-------------------+\n",
            "only showing top 20 rows\n",
            "\n"
          ]
        }
      ]
    },
    {
      "cell_type": "code",
      "source": [
        "# Columnas binarias\n",
        "col_bin = [\n",
        "    'SEXO',\n",
        "    'HABLA_LENGUA_INDIG',\n",
        "    'INDIGENA',\n",
        "    'TIPO_PACIENTE',\n",
        "    'HEMORRAGICOS',\n",
        "    'DIABETES',\n",
        "    'HIPERTENSION',\n",
        "    'ENFERMEDAD_ULC_PEPTICA',\n",
        "    'ENFERMEDAD_RENAL',\n",
        "    'INMUNOSUPR',\n",
        "    'CIRROSIS_HEPATICA',\n",
        "    'EMBARAZO',\n",
        "    'DEFUNCION',\n",
        "    'TOMA_MUESTRA',\n",
        "]"
      ],
      "metadata": {
        "id": "TGjEe4lS0n5G"
      },
      "execution_count": null,
      "outputs": []
    },
    {
      "cell_type": "code",
      "source": [
        "for col_name in col_bin:\n",
        "    df = df.withColumn(\n",
        "        col_name,\n",
        "        when(col(col_name) == 1, 1)\n",
        "        .when(col(col_name) == 2, 0)\n",
        "        .otherwise(None)\n",
        "    )"
      ],
      "metadata": {
        "id": "DulBUVFx1LDF"
      },
      "execution_count": null,
      "outputs": []
    },
    {
      "cell_type": "code",
      "source": [
        "df.columns"
      ],
      "metadata": {
        "colab": {
          "base_uri": "https://localhost:8080/"
        },
        "id": "tHhZz8gV0uvW",
        "outputId": "9ceb422c-894e-4c78-e7b8-2e24fe4dc0eb"
      },
      "execution_count": null,
      "outputs": [
        {
          "output_type": "execute_result",
          "data": {
            "text/plain": [
              "['ID_REGISTRO',\n",
              " 'SEXO',\n",
              " 'EDAD_ANOS',\n",
              " 'ENTIDAD_RES',\n",
              " 'MUNICIPIO_RES',\n",
              " 'HABLA_LENGUA_INDIG',\n",
              " 'INDIGENA',\n",
              " 'ENTIDAD_UM_NOTIF',\n",
              " 'MUNICIPIO_UM_NOTIF',\n",
              " 'INSTITUCION_UM_NOTIF',\n",
              " 'TIPO_PACIENTE',\n",
              " 'HEMORRAGICOS',\n",
              " 'DIABETES',\n",
              " 'HIPERTENSION',\n",
              " 'ENFERMEDAD_ULC_PEPTICA',\n",
              " 'ENFERMEDAD_RENAL',\n",
              " 'INMUNOSUPR',\n",
              " 'CIRROSIS_HEPATICA',\n",
              " 'EMBARAZO',\n",
              " 'DEFUNCION',\n",
              " 'DICTAMEN',\n",
              " 'TOMA_MUESTRA',\n",
              " 'RESULTADO_PCR',\n",
              " 'ESTATUS_CASO',\n",
              " 'ENTIDAD_ASIG',\n",
              " 'MUNICIPIO_ASIG',\n",
              " 'FECHA_SIGN_SINTOMAS']"
            ]
          },
          "metadata": {},
          "execution_count": 24
        }
      ]
    },
    {
      "cell_type": "code",
      "source": [
        "columnas_a_eliminar = [\n",
        "    \"ID_REGISTRO\", \"HABLA_LENGUA_INDIG\", \"INDIGENA\",\n",
        "    \"ENTIDAD_UM_NOTIF\", \"MUNICIPIO_UM_NOTIF\", \"INSTITUCION_UM_NOTIF\",\n",
        "    \"FECHA_ACTUALIZACION\", \"ENTIDAD_ASIG\", \"MUNICIPIO_ASIG\"\n",
        "]\n",
        "\n",
        "df = df.drop(*columnas_a_eliminar)"
      ],
      "metadata": {
        "id": "uWcS4lNk5AJs"
      },
      "execution_count": null,
      "outputs": []
    },
    {
      "cell_type": "code",
      "source": [
        "df.columns"
      ],
      "metadata": {
        "colab": {
          "base_uri": "https://localhost:8080/"
        },
        "id": "ResKPpZK5KPA",
        "outputId": "80d14820-34c3-4b39-936f-f9b7b50806ab"
      },
      "execution_count": null,
      "outputs": [
        {
          "output_type": "execute_result",
          "data": {
            "text/plain": [
              "['SEXO',\n",
              " 'EDAD_ANOS',\n",
              " 'ENTIDAD_RES',\n",
              " 'MUNICIPIO_RES',\n",
              " 'TIPO_PACIENTE',\n",
              " 'HEMORRAGICOS',\n",
              " 'DIABETES',\n",
              " 'HIPERTENSION',\n",
              " 'ENFERMEDAD_ULC_PEPTICA',\n",
              " 'ENFERMEDAD_RENAL',\n",
              " 'INMUNOSUPR',\n",
              " 'CIRROSIS_HEPATICA',\n",
              " 'EMBARAZO',\n",
              " 'DEFUNCION',\n",
              " 'DICTAMEN',\n",
              " 'TOMA_MUESTRA',\n",
              " 'RESULTADO_PCR',\n",
              " 'ESTATUS_CASO',\n",
              " 'FECHA_SIGN_SINTOMAS']"
            ]
          },
          "metadata": {},
          "execution_count": 26
        }
      ]
    },
    {
      "cell_type": "code",
      "source": [
        "df.show()"
      ],
      "metadata": {
        "colab": {
          "base_uri": "https://localhost:8080/"
        },
        "id": "Ex4nx2oD5XGT",
        "outputId": "5e80d0ec-ba3b-42bb-c942-5079cde36e44"
      },
      "execution_count": null,
      "outputs": [
        {
          "output_type": "stream",
          "name": "stdout",
          "text": [
            "+----+---------+-----------+-------------+-------------+------------+--------+------------+----------------------+----------------+----------+-----------------+--------+---------+--------+------------+-------------+------------+-------------------+\n",
            "|SEXO|EDAD_ANOS|ENTIDAD_RES|MUNICIPIO_RES|TIPO_PACIENTE|HEMORRAGICOS|DIABETES|HIPERTENSION|ENFERMEDAD_ULC_PEPTICA|ENFERMEDAD_RENAL|INMUNOSUPR|CIRROSIS_HEPATICA|EMBARAZO|DEFUNCION|DICTAMEN|TOMA_MUESTRA|RESULTADO_PCR|ESTATUS_CASO|FECHA_SIGN_SINTOMAS|\n",
            "+----+---------+-----------+-------------+-------------+------------+--------+------------+----------------------+----------------+----------+-----------------+--------+---------+--------+------------+-------------+------------+-------------------+\n",
            "|   0|       63|         28|           33|            0|           0|       0|           0|                     0|               0|         0|                0|       0|        0|       5|           1|            5|           2|         2020-10-28|\n",
            "|   1|       38|         26|           18|            1|           0|       0|           0|                     0|               0|         0|                0|       0|        0|       5|           1|            5|           1|         2022-09-12|\n",
            "|   1|       64|         14|           39|            0|           0|       0|           0|                     0|               0|         0|                0|       0|        0|       5|           1|            5|           1|         2024-09-26|\n",
            "|   0|       22|         20|          109|            0|           0|       0|           0|                     0|               0|         0|                0|       0|        1|       1|           1|            5|           2|         2020-01-01|\n",
            "|   0|       52|         31|           50|            1|           0|       0|           0|                     0|               0|         0|                0|       0|        0|       5|           0|            5|           1|         2020-01-01|\n",
            "|   1|       31|         31|           50|            1|           0|       0|           0|                     0|               0|         0|                0|       0|        0|       5|           0|            5|           1|         2020-01-01|\n",
            "|   0|       36|         27|            4|            1|           0|       0|           0|                     0|               0|         0|                0|       0|        0|       5|           1|            5|           3|         2020-01-01|\n",
            "|   0|       32|         23|            4|            1|           0|       0|           0|                     0|               0|         0|                0|       0|        0|       5|           0|            5|           1|         2020-01-01|\n",
            "|   0|       28|         14|           39|            1|           0|       0|           0|                     0|               0|         0|                0|       0|        0|       5|           1|            5|           3|         2020-01-02|\n",
            "|   1|        6|         12|            1|            0|           0|       0|           0|                     0|               0|         0|                0|       0|        0|       5|           1|            5|           3|         2020-01-01|\n",
            "|   0|       19|         27|            5|            1|           0|       0|           0|                     0|               0|         0|                0|       0|        0|       5|           0|            5|           1|         2020-01-01|\n",
            "|   0|       11|         31|           41|            1|           0|       0|           0|                     0|               0|         0|                0|       0|        0|       5|           0|            5|           1|         2020-01-01|\n",
            "|   1|       34|         27|            4|            1|           0|       0|           0|                     0|               0|         0|                0|       0|        0|       5|           0|            5|           1|         2020-01-01|\n",
            "|   0|       40|         30|          175|            1|           0|       1|           1|                     0|               0|         0|                0|       0|        0|       5|           1|            5|           3|         2020-01-01|\n",
            "|   0|       55|         12|            1|            0|           0|       0|           0|                     0|               0|         0|                0|       0|        0|       5|           0|            5|           1|         2020-01-01|\n",
            "|   1|       11|         30|          193|            1|           0|       0|           0|                     0|               0|         0|                0|       0|        0|       5|           1|            5|           3|         2020-01-01|\n",
            "|   0|       12|         31|           96|            1|           0|       0|           0|                     0|               0|         0|                0|       0|        0|       5|           0|            5|           1|         2020-01-01|\n",
            "|   0|       50|         27|            4|            1|           0|       0|           0|                     0|               0|         0|                0|       0|        0|       5|           0|            5|           1|         2020-01-01|\n",
            "|   0|        4|         14|          120|            1|           0|       0|           0|                     0|               0|         0|                0|       0|        0|       5|           1|            5|           3|         2020-01-01|\n",
            "|   1|       24|         13|           28|            1|           0|       0|           0|                     0|               0|         0|                0|       0|        0|       5|           0|            5|           1|         2020-01-01|\n",
            "+----+---------+-----------+-------------+-------------+------------+--------+------------+----------------------+----------------+----------+-----------------+--------+---------+--------+------------+-------------+------------+-------------------+\n",
            "only showing top 20 rows\n",
            "\n"
          ]
        }
      ]
    },
    {
      "cell_type": "code",
      "source": [
        "print(\"DENGUE:\",df.filter(col('DICTAMEN') == 1).count())\n",
        "print(\"CHIKUNGUNYA:\",df.filter(col('DICTAMEN') == 2).count())"
      ],
      "metadata": {
        "colab": {
          "base_uri": "https://localhost:8080/"
        },
        "id": "yTMGQO5EFsTG",
        "outputId": "f4e673ff-1dd9-4e88-8235-ba5be6261c12"
      },
      "execution_count": null,
      "outputs": [
        {
          "output_type": "stream",
          "name": "stdout",
          "text": [
            "DENGUE: 343\n",
            "CHIKUNGUNYA: 0\n"
          ]
        }
      ]
    },
    {
      "cell_type": "code",
      "source": [
        "from pyspark.sql import functions as F\n",
        "\n",
        "# Diccionario original\n",
        "clave_a_nombre = {\n",
        "    \"01\": \"Aguascalientes\",\n",
        "    \"02\": \"Baja California\",\n",
        "    \"03\": \"Baja California Sur\",\n",
        "    \"04\": \"Campeche\",\n",
        "    \"05\": \"Coahuila de Zaragoza\",\n",
        "    \"06\": \"Colima\",\n",
        "    \"07\": \"Chiapas\",\n",
        "    \"08\": \"Chihuahua\",\n",
        "    \"09\": \"Ciudad de México\",\n",
        "    \"10\": \"Durango\",\n",
        "    \"11\": \"Guanajuato\",\n",
        "    \"12\": \"Guerrero\",\n",
        "    \"13\": \"Hidalgo\",\n",
        "    \"14\": \"Jalisco\",\n",
        "    \"15\": \"México\",\n",
        "    \"16\": \"Michoacán de Ocampo\",\n",
        "    \"17\": \"Morelos\",\n",
        "    \"18\": \"Nayarit\",\n",
        "    \"19\": \"Nuevo León\",\n",
        "    \"20\": \"Oaxaca\",\n",
        "    \"21\": \"Puebla\",\n",
        "    \"22\": \"Querétaro\",\n",
        "    \"23\": \"Quintana Roo\",\n",
        "    \"24\": \"San Luis Potosí\",\n",
        "    \"25\": \"Sinaloa\",\n",
        "    \"26\": \"Sonora\",\n",
        "    \"27\": \"Tabasco\",\n",
        "    \"28\": \"Tamaulipas\",\n",
        "    \"29\": \"Tlaxcala\",\n",
        "    \"30\": \"Veracruz de Ignacio de la Llave\",\n",
        "    \"31\": \"Yucatán\",\n",
        "    \"32\": \"Zacatecas\",\n",
        "    \"33\": \"Estados Unidos de América\",\n",
        "    \"34\": \"Otros países de Latinoamérica\",\n",
        "    \"35\": \"Otros países\",\n",
        "    \"97\": \"No aplica\",\n",
        "    \"98\": \"Se ignora\",\n",
        "    \"99\": \"No especificado\"\n",
        "}\n",
        "\n",
        "# Creamos la expresión de mapeo\n",
        "mapping_expr = F.create_map([F.lit(x) for x in sum(clave_a_nombre.items(), ())])\n",
        "\n",
        "# Nos aseguramos de que ENTIDAD_RES esté en formato string de 2 dígitos\n",
        "df = df.withColumn(\"ENTIDAD_RES_STR\", F.format_string(\"%02d\", F.col(\"ENTIDAD_RES\").cast(\"int\")))\n",
        "\n",
        "# Aplicamos el mapeo\n",
        "df = df.withColumn(\"estado\", mapping_expr[F.col(\"ENTIDAD_RES_STR\")])"
      ],
      "metadata": {
        "id": "4pOhwkveDWqS"
      },
      "execution_count": null,
      "outputs": []
    },
    {
      "cell_type": "code",
      "source": [
        "from pyspark.sql.functions import min, max\n",
        "\n",
        "df.select(\n",
        "    min(\"FECHA_SIGN_SINTOMAS\").alias(\"fecha_minima\"),\n",
        "    max(\"FECHA_SIGN_SINTOMAS\").alias(\"fecha_maxima\")\n",
        ").show()"
      ],
      "metadata": {
        "colab": {
          "base_uri": "https://localhost:8080/"
        },
        "id": "2M0ikYaJHKDP",
        "outputId": "14bf457b-4134-4eb4-f8eb-d90eba1dacc8"
      },
      "execution_count": null,
      "outputs": [
        {
          "output_type": "stream",
          "name": "stdout",
          "text": [
            "+------------+------------+\n",
            "|fecha_minima|fecha_maxima|\n",
            "+------------+------------+\n",
            "|  2020-01-01|  2024-10-19|\n",
            "+------------+------------+\n",
            "\n"
          ]
        }
      ]
    },
    {
      "cell_type": "code",
      "source": [
        "df.write \\\n",
        "    .mode(\"overwrite\") \\\n",
        "    .partitionBy(\"ENTIDAD_RES\") \\\n",
        "    .parquet(\"data/parquet\")"
      ],
      "metadata": {
        "id": "nbCaUqL9PGNt"
      },
      "execution_count": null,
      "outputs": []
    },
    {
      "cell_type": "code",
      "source": [
        "df.coalesce(1).write \\\n",
        "    .mode(\"overwrite\") \\\n",
        "    .option(\"header\", True) \\\n",
        "    .option(\"encode\", \"utf-8\") \\\n",
        "    .csv(\"data/csv\")"
      ],
      "metadata": {
        "id": "9xY5dreDDjyr"
      },
      "execution_count": null,
      "outputs": []
    },
    {
      "cell_type": "markdown",
      "source": [
        "# Visualizacion"
      ],
      "metadata": {
        "id": "LhVTHbdaUM-a"
      }
    },
    {
      "cell_type": "code",
      "source": [
        "df_pd = df.filter(col('DICTAMEN') == 1).groupBy(\"ENTIDAD_RES\").count().toPandas()\n",
        "df_pd.columns = [\"ENTIDAD_RES\", \"casos\"]  # Renombra si es necesario\n",
        "df_pd[\"ENTIDAD_RES\"] = df_pd[\"ENTIDAD_RES\"].astype(str).str.zfill(2)"
      ],
      "metadata": {
        "id": "302TKF-EWw5Q"
      },
      "execution_count": null,
      "outputs": []
    },
    {
      "cell_type": "code",
      "source": [
        "clave_a_nombre = {\n",
        "    \"01\": \"Aguascalientes\",\n",
        "    \"02\": \"Baja California\",\n",
        "    \"03\": \"Baja California Sur\",\n",
        "    \"04\": \"Campeche\",\n",
        "    \"05\": \"Coahuila de Zaragoza\",\n",
        "    \"06\": \"Colima\",\n",
        "    \"07\": \"Chiapas\",\n",
        "    \"08\": \"Chihuahua\",\n",
        "    \"09\": \"Ciudad de México\",\n",
        "    \"10\": \"Durango\",\n",
        "    \"11\": \"Guanajuato\",\n",
        "    \"12\": \"Guerrero\",\n",
        "    \"13\": \"Hidalgo\",\n",
        "    \"14\": \"Jalisco\",\n",
        "    \"15\": \"México\",\n",
        "    \"16\": \"Michoacán de Ocampo\",\n",
        "    \"17\": \"Morelos\",\n",
        "    \"18\": \"Nayarit\",\n",
        "    \"19\": \"Nuevo León\",\n",
        "    \"20\": \"Oaxaca\",\n",
        "    \"21\": \"Puebla\",\n",
        "    \"22\": \"Querétaro\",\n",
        "    \"23\": \"Quintana Roo\",\n",
        "    \"24\": \"San Luis Potosí\",\n",
        "    \"25\": \"Sinaloa\",\n",
        "    \"26\": \"Sonora\",\n",
        "    \"27\": \"Tabasco\",\n",
        "    \"28\": \"Tamaulipas\",\n",
        "    \"29\": \"Tlaxcala\",\n",
        "    \"30\": \"Veracruz de Ignacio de la Llave\",\n",
        "    \"31\": \"Yucatán\",\n",
        "    \"32\": \"Zacatecas\",\n",
        "    \"33\": \"Estados Unidos de América\",\n",
        "    \"34\": \"Otros países de Latinoamérica\",\n",
        "    \"35\": \"Otros países\",\n",
        "    \"97\": \"No aplica\",\n",
        "    \"98\": \"Se ignora\",\n",
        "    \"99\": \"No especificado\"\n",
        "}\n"
      ],
      "metadata": {
        "id": "o9D86ivcZFpF"
      },
      "execution_count": null,
      "outputs": []
    },
    {
      "cell_type": "code",
      "source": [
        "df_pd[\"ENTIDAD_RES\"] = df_pd[\"ENTIDAD_RES\"].astype(str).str.zfill(2)\n",
        "df_pd[\"estado\"] = df_pd[\"ENTIDAD_RES\"].map(clave_a_nombre)"
      ],
      "metadata": {
        "id": "0V9cFcwHZHuA"
      },
      "execution_count": null,
      "outputs": []
    },
    {
      "cell_type": "code",
      "source": [
        "import matplotlib.pyplot as plt\n",
        "\n",
        "df_pd = df_pd.sort_values(\"casos\", ascending=False)\n",
        "\n",
        "plt.figure(figsize=(12, 6))\n",
        "plt.bar(df_pd[\"estado\"], df_pd[\"casos\"], color=\"skyblue\")\n",
        "plt.xlabel(\"Entidad federativa\")\n",
        "plt.ylabel(\"Casos confirmados\")\n",
        "plt.title(\"Casos confirmados de dengue por entidad\")\n",
        "plt.xticks(rotation=90)\n",
        "plt.grid(axis='y', linestyle='--', alpha=0.5)\n",
        "plt.tight_layout()\n",
        "plt.show()\n"
      ],
      "metadata": {
        "colab": {
          "base_uri": "https://localhost:8080/",
          "height": 593
        },
        "id": "ZUye1PjjWzw-",
        "outputId": "92aa61c6-f3b9-4edc-a6a9-18c742252ed9"
      },
      "execution_count": null,
      "outputs": [
        {
          "output_type": "display_data",
          "data": {
            "text/plain": [
              "<Figure size 1200x600 with 1 Axes>"
            ],
            "image/png": "[encoded data removed]"
          },
          "metadata": {}
        }
      ]
    }
  ]
}